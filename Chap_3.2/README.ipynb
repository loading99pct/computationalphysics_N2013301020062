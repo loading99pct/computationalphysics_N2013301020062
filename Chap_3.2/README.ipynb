{
 "cells": [
  {
   "cell_type": "markdown",
   "metadata": {},
   "source": [
    "# 周期驱动有阻尼非线性单摆的混沌特性 #"
   ]
  },
  {
   "cell_type": "markdown",
   "metadata": {},
   "source": [
    "以前的作业中，我们已经定义了在给定时间区间内求解一般微分方程的函数dSolve，   \n",
    "   \n",
    "[dSolve in Chap1](https://github.com/loading99pct/computationalphysics_N2013301020062/tree/master/chap-1)   \n",
    "   \n",
    "借助之前的求解方法函数，定义函数dSolveUntil, 此函数不断迭代，直到状态（t,X）满足某个条件stopQ,   \n",
    "返回解列表，此函数结构由nestUntilList给出   \n",
    "   \n",
    "已经定义了dSolveUntil,它和dSolve一样可以调用四种求解方法，默认采用 RK-4 求解   \n",
    "[dSolveUntil in Chap2](https://github.com/loading99pct/computationalphysics_N2013301020062/tree/master/Chap_2.1)   \n",
    "   \n",
    "   "
   ]
  },
  {
   "cell_type": "markdown",
   "metadata": {},
   "source": [
    "本次作业中：   \n",
    "1, 对初值的敏感依赖性   \n",
    "2, 庞加莱截面        "
   ]
  },
  {
   "cell_type": "markdown",
   "metadata": {},
   "source": [
    "## 对初值的敏感依赖性 ##"
   ]
  },
  {
   "cell_type": "markdown",
   "metadata": {},
   "source": [
    "dSolve可以调用四种求解方法，默认采用 RK-4 求解   "
   ]
  },
  {
   "cell_type": "markdown",
   "metadata": {},
   "source": [
    "定义周期驱动有阻尼非线性单摆的运动微分方程（被映射为某个函数）   "
   ]
  },
  {
   "cell_type": "code",
   "execution_count": null,
   "metadata": {
    "collapsed": true
   },
   "outputs": [],
   "source": [
    "\n",
    "def forcedDampedNonlinearPendulum(omgd, fd = 1.2, q = 0.5 , gOverL = 1.):\n",
    "    def foo(t,X):\n",
    "        [omega, theta] = X\n",
    "        return array([- gOverL*math.sin(theta) - q*omega + fd*math.sin(omgd*t), omega])\n",
    "    return foo\n"
   ]
  },
  {
   "cell_type": "markdown",
   "metadata": {},
   "source": [
    "考虑在初始条件有微小差别下的情况，这里角度有细微差别   "
   ]
  },
  {
   "cell_type": "markdown",
   "metadata": {},
   "source": [
    "[omega, theta] = [0., 0.20]   \n",
    "[omega, theta] = [0., 0.21]   "
   ]
  },
  {
   "cell_type": "markdown",
   "metadata": {},
   "source": [
    "分别用两个初值求解运动方程    "
   ]
  },
  {
   "cell_type": "code",
   "execution_count": null,
   "metadata": {
    "collapsed": true
   },
   "outputs": [],
   "source": [
    "\n",
    "ans1 = dSolve(forcedDampedNonlinearPendulum(2./3.), array([0., 0.20]), tMax, stepSize, method = \"RK4\")\n",
    "ans1Omega = reduceStateList(ans1, [0])\n",
    "ans1Theta = reduceStateList(ans1, [1])\n",
    "\n",
    "ans2 = dSolve(forcedDampedNonlinearPendulum(2./3.), array([0., 0.21]), tMax, stepSize, method = \"RK4\")\n",
    "ans2Omega = reduceStateList(ans2, [0])\n",
    "ans2Theta = reduceStateList(ans2, [1])\n"
   ]
  },
  {
   "cell_type": "markdown",
   "metadata": {},
   "source": [
    "分别画出角速度随时间变化,角度随时间变化，以及相空间轨迹    "
   ]
  },
  {
   "cell_type": "code",
   "execution_count": null,
   "metadata": {
    "collapsed": true
   },
   "outputs": [],
   "source": [
    "# Omega\n",
    "ddp(ans2Omega,[\"ForwardEuler\"], xLabel = \"t/s\", yLabel = \"Omega/ 1/s\")\n",
    "ddp(ans1Omega,[\"RK4\"], xLabel = \"t/s\", yLabel = \"Omega/ 1/s\")\n",
    "done()\n",
    "\n",
    "# Theta\n",
    "ddp(ans2Theta,[\"ForwardEuler\"], xLabel = \"t/s\", yLabel = \"Theta/ 1\")\n",
    "ddp(ans1Theta,[\"RK4\"], xLabel = \"t/s\", yLabel = \"Theta/ 1\")\n",
    "done()\n",
    "\n",
    "# phase diag\n",
    "easyPlotXYHoldON(getXiList(ans2,2),getXiList(ans2,1), \"ForwardEuler\",\"Theta/ 1\",\"Omega/ 1/s\", \"Phase Diagram\")\n",
    "easyPlotXYHoldON(getXiList(ans1,2),getXiList(ans1,1), \"RK4\",\"Theta/ 1\",\"Omega/ 1/s\", \"Phase Diagram\")\n",
    "done()"
   ]
  },
  {
   "cell_type": "markdown",
   "metadata": {},
   "source": [
    "角度随时间变化（未取模）  "
   ]
  },
  {
   "cell_type": "markdown",
   "metadata": {},
   "source": [
    "![](https://raw.githubusercontent.com/loading99pct/computationalphysics_N2013301020062/master/Chap_3.2/pictures/1-theta.png)   "
   ]
  },
  {
   "cell_type": "markdown",
   "metadata": {},
   "source": [
    "角度随时间变化（取模）   "
   ]
  },
  {
   "cell_type": "markdown",
   "metadata": {},
   "source": [
    "![](https://raw.githubusercontent.com/loading99pct/computationalphysics_N2013301020062/master/Chap_3.2/pictures/1-modTheta.png)   "
   ]
  },
  {
   "cell_type": "markdown",
   "metadata": {},
   "source": [
    "角速度随时间变化    "
   ]
  },
  {
   "cell_type": "markdown",
   "metadata": {},
   "source": [
    "![](https://raw.githubusercontent.com/loading99pct/computationalphysics_N2013301020062/master/Chap_3.2/pictures/1-omega.png)   "
   ]
  },
  {
   "cell_type": "markdown",
   "metadata": {},
   "source": [
    "相图   "
   ]
  },
  {
   "cell_type": "markdown",
   "metadata": {},
   "source": [
    "![](https://raw.githubusercontent.com/loading99pct/computationalphysics_N2013301020062/master/Chap_3.2/pictures/1-phase.png)   "
   ]
  },
  {
   "cell_type": "markdown",
   "metadata": {},
   "source": [
    "可以看出，初始结果的微小差别会随着时间被放大，并占据主导   "
   ]
  },
  {
   "cell_type": "markdown",
   "metadata": {},
   "source": [
    "## 庞加莱截面 ##"
   ]
  },
  {
   "cell_type": "markdown",
   "metadata": {},
   "source": [
    "将庞加莱截面定义为对解的频闪提取   "
   ]
  },
  {
   "cell_type": "code",
   "execution_count": null,
   "metadata": {
    "collapsed": true
   },
   "outputs": [],
   "source": [
    "\n",
    "def poincareSection(solution, omgd, phase = 0., tmin = 50):\n",
    "\tdef mulOfTQ(t, omgd):\n",
    "\t\tn = (t - phase/omgd)/ (2*math.pi/omgd)\n",
    "\t\treturn fEqQ(round(n), n)\n",
    "\tn = len(solution)\n",
    "\tsol = solution#[int(round(0.2*n)):-1]\n",
    "\tsectionPoints = filter(lambda state: mulOfTQ(getT(state), omgd) and getT(state) > tmin, sol)\n",
    "\treturn sectionPoints\n"
   ]
  },
  {
   "cell_type": "markdown",
   "metadata": {},
   "source": [
    "求解运动方程，并提取出不同初始相位下的庞加莱截面，并画出如下    "
   ]
  },
  {
   "cell_type": "markdown",
   "metadata": {},
   "source": [
    "![](https://raw.githubusercontent.com/loading99pct/computationalphysics_N2013301020062/master/Chap_3.2/pictures/2-poincareSection-0.png)   "
   ]
  },
  {
   "cell_type": "markdown",
   "metadata": {},
   "source": [
    "![](https://raw.githubusercontent.com/loading99pct/computationalphysics_N2013301020062/master/Chap_3.2/pictures/2-poincareSection-1.png)   "
   ]
  },
  {
   "cell_type": "markdown",
   "metadata": {},
   "source": [
    "![](https://raw.githubusercontent.com/loading99pct/computationalphysics_N2013301020062/master/Chap_3.2/pictures/2-poincareSection-2.png)   "
   ]
  },
  {
   "cell_type": "markdown",
   "metadata": {},
   "source": [
    "![](https://raw.githubusercontent.com/loading99pct/computationalphysics_N2013301020062/master/Chap_3.2/pictures/2-poincareSection-3.png)   "
   ]
  },
  {
   "cell_type": "markdown",
   "metadata": {},
   "source": [
    "![](https://raw.githubusercontent.com/loading99pct/computationalphysics_N2013301020062/master/Chap_3.2/pictures/2-poincareSection-4.png)   "
   ]
  },
  {
   "cell_type": "markdown",
   "metadata": {},
   "source": [
    "以及，画出不同相位的动态图如下（gif，加载需要时间）   "
   ]
  },
  {
   "cell_type": "markdown",
   "metadata": {},
   "source": [
    "![](https://raw.githubusercontent.com/loading99pct/computationalphysics_N2013301020062/master/Chap_3.2/pictures/2-poincareSection.gif)   "
   ]
  },
  {
   "cell_type": "markdown",
   "metadata": {},
   "source": [
    "从庞加莱截面的有序性可以看出，即使混沌之中，也存在规律   "
   ]
  }
 ],
 "metadata": {
  "kernelspec": {
   "display_name": "Python 2",
   "language": "python",
   "name": "python2"
  },
  "language_info": {
   "codemirror_mode": {
    "name": "ipython",
    "version": 2
   },
   "file_extension": ".py",
   "mimetype": "text/x-python",
   "name": "python",
   "nbconvert_exporter": "python",
   "pygments_lexer": "ipython2",
   "version": "2.7.11"
  }
 },
 "nbformat": 4,
 "nbformat_minor": 0
}
