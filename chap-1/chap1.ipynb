{
 "cells": [
  {
   "cell_type": "markdown",
   "metadata": {},
   "source": [
    "本次作业，目前完成了通用的求解X'=F(t,X)形式微分方程（X可以为标量或矢量）的程序  \n",
    "目前可以采用 Runge - Kutta 家族下的四种显式的求解法求解，包括  \n",
    "Forward Euler Method  \n",
    "Explicit Trapezoidal Method  \n",
    "MidPoint Method  \n",
    "RK4 Method  "
   ]
  },
  {
   "cell_type": "markdown",
   "metadata": {},
   "source": [
    "注意到本课程多章均涉及微分方程求解，不妨设计通用的求解多元一阶微分方程组的函数，  \n",
    "多元高阶微分方程组可以约化为一阶方程组的求解。  \n",
    "为了自动约化高阶方程，需要进行元语言抽象，并编写求值器或解释器（有没有更简单的的方法？）  \n",
    "所以，这里的一般求解方法为，将高阶方程手动化为相应个数的一阶，并通过dSolve函数求解。 "
   ]
  },
  {
   "cell_type": "markdown",
   "metadata": {},
   "source": [
    "# 一般微分方程的求解函数 #"
   ]
  },
  {
   "cell_type": "markdown",
   "metadata": {},
   "source": [
    "## dSolve函数 ##"
   ]
  },
  {
   "cell_type": "markdown",
   "metadata": {},
   "source": [
    "在这里，一个微分方程组被映射为程序中的一个函数，即微分方程的右手边一系列函数的集合（ X'[t] = F[t,X] 对应于程序中的 F），接受时间t和矢量X,给出X'  \n",
    "  \n",
    "通过高阶函数，可以将\"通过迭代法数值求解微分方程求解\" 与 \"具体的求解方法\" 二者解耦。  \n",
    "  \n",
    "某一 Runge-Kutta 家族下的求解法，被映射到程序中的一个高阶函数，  \n",
    "它接受待解得微分方程的RHS-Function作为参数，输入某一时刻状态（t(i),X(i)）,输出下一时刻状态（t(i+1),X(i+1)）   \n",
    "  \n",
    "dSolve函数（目前）通过采用某一显式求解法（目前给出了四种常见方法供选择，如下节所列），对初始条件使用指定方法反复迭代（通过nest.py 中的 nestList函数）生成离散的状态列表。  \n",
    "  \n",
    "dSolve可以求解一元微分方程或多元微分方程组（遵循下面要求的格式），但是目前如需求解高阶方程须手动化为多元一阶形式。  \n"
   ]
  },
  {
   "cell_type": "markdown",
   "metadata": {},
   "source": [
    "\n",
    "dSolve solves a system of first-order differential equations  \n",
    "(or A first-order differential equation, of course) of the form:\n",
    "\n",
    "-----------------------------------------------\n",
    "\n",
    "                X'[t] = F[t,X]\n",
    "                \n",
    "-----------------------------------------------\n",
    "(\n",
    "                \n",
    "    where  X = (x1,x2,...,xn)T  \n",
    "    F:  X -> Y  \n",
    "        (x1,x2,...,xn)T -> (y1,y2,...,yn)T  \n",
    "        where:  \n",
    "        y1 = f1(t,x1,x2,...,xn),  \n",
    "        y1 = f1(t,x1,x2,...,xn),  \n",
    "        .  \n",
    "        .  \n",
    "        yn = f1(t,x1,x2,...,xn)   \n",
    ")  \n",
    "  \n",
    "with initial value X[0] =x0,  \n",
    "( \n",
    "    !!! if xi is a vector,   \n",
    "    it should be given by the data structure \"array\" defined in numpy package  \n",
    "    e.g. numpy.array([x1,x2,x3])  \n",
    ")  \n",
    "  \n",
    "from t = 0 to t = tMax,  \n",
    "  \n",
    "with fixed step size = stepSize,  \n",
    "  \n",
    "using method selected from __methodDictionary  \n",
    "  \n",
    "  \n",
    "Output: [state0, state1,... ]  \n",
    "    where statei has the form [ti, xi] for a ODE,   \n",
    "        or [ti, array([x1i,x2i...])] for s system of ODEs  \n",
    "            "
   ]
  },
  {
   "cell_type": "markdown",
   "metadata": {},
   "source": [
    "  \n",
    "This function is impliment as follows:  \n",
    "  "
   ]
  },
  {
   "cell_type": "code",
   "execution_count": 16,
   "metadata": {
    "collapsed": true
   },
   "outputs": [],
   "source": [
    "\n",
    "def dSolve(func, x0, tMax, stepSize, method = \"RK4\"):\n",
    "    times = int(math.ceil(float(tMax) / stepSize))\n",
    "    methodFunc = __methodDictionary[method]\n",
    "    toNext = lambda state: methodFunc(state, func, stepSize)\n",
    "    return nestList(toNext, makeState(0, x0), times)\n"
   ]
  },
  {
   "cell_type": "markdown",
   "metadata": {},
   "source": [
    "## Four methed in Runge-Kutta's family ##"
   ]
  },
  {
   "cell_type": "markdown",
   "metadata": {},
   "source": [
    "Map different methed in Runge-Kutta's familly to a Higher-order function,   \n",
    "which takes a high-order function F (in X'[t] = F[t,X]) and state[i] as input, give state[i+1]  "
   ]
  },
  {
   "cell_type": "code",
   "execution_count": 7,
   "metadata": {
    "collapsed": true
   },
   "outputs": [],
   "source": [
    "\"\"\"\n",
    "the constructor and selector of a State:(t,X) \n",
    "\"\"\"\n",
    "def makeState(t, x): return [t,x]\n",
    "def getX(state): return state[1]\n",
    "def getT(state): return state[0]\n"
   ]
  },
  {
   "cell_type": "raw",
   "metadata": {},
   "source": [
    "In the following method:\n",
    "xi could be a scalar, or a vector\n",
    "    if xi is a vector, \n",
    "    it should be given by the data structure \"array\" defined in numpy package\n",
    "    e.g. numpy.array([x1,x2,x3])\n",
    "the f is the RHS-function in X'[t] == f(X,t)\n",
    "    f: ti,xi -> xii\n",
    "    f should be defined in the form \n",
    "        define f(ti, Xi):  \n",
    "            return a vector with the same size as Xi\n",
    "        or given by a equivalent lambda expression\n",
    "with fixed step size h, and a given f,\n",
    "the followingMethod is a iterative function \n",
    "    followingMethod: state ->state\n",
    "                     (ti,xi) -> (tii,xii)"
   ]
  },
  {
   "cell_type": "markdown",
   "metadata": {},
   "source": [
    "### 前向欧拉法 ###"
   ]
  },
  {
   "cell_type": "code",
   "execution_count": 8,
   "metadata": {
    "collapsed": true
   },
   "outputs": [],
   "source": [
    "def forwardEulerMethod(state, f, h):\n",
    "    ti = getT(state)\n",
    "    xi = getX(state)\n",
    "    tii = ti + h  # tii = Subscibe[t,i+1]\n",
    "    xii = xi + h * f(ti,xi)  # xii = Subscibe[x,i+1]\n",
    "    return makeState(tii,xii)"
   ]
  },
  {
   "cell_type": "markdown",
   "metadata": {},
   "source": [
    "### 显式梯形法 ###"
   ]
  },
  {
   "cell_type": "code",
   "execution_count": 10,
   "metadata": {
    "collapsed": true
   },
   "outputs": [],
   "source": [
    "def explicitTrapezoidalMethod(state, f, h):\n",
    "    ti = getT(state)\n",
    "    xi = getX(state)\n",
    "    tii = ti + h  \n",
    "    xii = xi + h/2.0 *(f(ti,xi) + f(ti+h, xi+h*f(ti,xi)))\n",
    "    return makeState(tii,xii)"
   ]
  },
  {
   "cell_type": "markdown",
   "metadata": {},
   "source": [
    "### 中点法 ###"
   ]
  },
  {
   "cell_type": "code",
   "execution_count": 12,
   "metadata": {
    "collapsed": true
   },
   "outputs": [],
   "source": [
    "def midPointMethod(state, f, h):\n",
    "    ti = getT(state)\n",
    "    xi = getX(state)\n",
    "    h = float(h)\n",
    "    tii = ti + h\n",
    "    xii = xi + h * f(ti+h/2, xi+h/2*f(ti,xi))\n",
    "    return makeState(tii,xii)"
   ]
  },
  {
   "cell_type": "markdown",
   "metadata": {},
   "source": [
    "### RK4方法 ###"
   ]
  },
  {
   "cell_type": "code",
   "execution_count": 13,
   "metadata": {
    "collapsed": true
   },
   "outputs": [],
   "source": [
    "def rk4Method(state, f, h):\n",
    "    '''\n",
    "    Classic fourth-order Runge-Kutta method\n",
    "    '''\n",
    "    ti = getT(state)\n",
    "    xi = getX(state)\n",
    "    h = float(h)\n",
    "    tii = ti + h \n",
    "    s1 = f(ti,xi)\n",
    "    s2 = f(ti+h/2, xi+h/2*s1)\n",
    "    s3 = f(ti+h/2, xi+h/2*s2)\n",
    "    s4 = f(ti+h, xi+h*s3)\n",
    "    xii = xi + h/6 * (s1 + 2*s2 + 2*s3 +s4)\n",
    "    return makeState(tii,xii)"
   ]
  },
  {
   "cell_type": "markdown",
   "metadata": {},
   "source": [
    "### 方法字典 ###"
   ]
  },
  {
   "cell_type": "markdown",
   "metadata": {},
   "source": [
    "dSolve中的求解方法在以下字典之一中选择  "
   ]
  },
  {
   "cell_type": "code",
   "execution_count": 14,
   "metadata": {
    "collapsed": true
   },
   "outputs": [],
   "source": [
    "__methodDictionary={\\\n",
    "    \"ForwardEuler\":forwardEulerMethod,\\\n",
    "    \"ExplicitTrapezoidal\":explicitTrapezoidalMethod,\\\n",
    "    \"Midpoint\":midPointMethod,\\\n",
    "    \"RK4\":rk4Method\\\n",
    "}"
   ]
  },
  {
   "cell_type": "markdown",
   "metadata": {
    "collapsed": true
   },
   "source": [
    "## 辅助函数：快速画图 ##"
   ]
  },
  {
   "cell_type": "raw",
   "metadata": {},
   "source": [
    "dSolveAndFastPlot\n",
    "dSolveAndFastPlot(func, x0, tMax, stepSize, method = \"RK4\")：\n",
    "用于快速查看结果，略\n",
    "dSolveAndDetailedPlotAndHoldOn\n",
    "def dSolveAndDetailedPlotAndHoldOn(func, x0, tMax, stepSize, method,\\\n",
    " labelList, xLabel = \"\", yLabel = \"\", titleLabel = \"\"): \n",
    "用于详细画图，略"
   ]
  },
  {
   "cell_type": "markdown",
   "metadata": {},
   "source": [
    "## 本章习题 ##"
   ]
  },
  {
   "cell_type": "markdown",
   "metadata": {},
   "source": [
    "第一题自由下落，仅作演示辅助函数dSolveAndFastPlot （简记为 dfp），速度随时间变化如下（仅作演示，坐标从略）："
   ]
  },
  {
   "cell_type": "code",
   "execution_count": 20,
   "metadata": {
    "collapsed": true
   },
   "outputs": [],
   "source": [
    "\n",
    "def freeFallingFunc1():\n",
    "    return lambda t,x: -9.8\n",
    "dSolveAndFastPlot(freeFallingFunc1(), 0, 10.,0.05,\"ForwardEuler\")\n"
   ]
  },
  {
   "cell_type": "markdown",
   "metadata": {},
   "source": [
    "![ff](https://raw.githubusercontent.com/loading99pct/computationalphysics_N2013301020062/master/chap-1/freeFallingFunc1.png)"
   ]
  },
  {
   "cell_type": "markdown",
   "metadata": {},
   "source": [
    "\n",
    "第三题阻尼下落，演示dSolve函数生成结果。  \n",
    "辅助函数dSolveAndDetailedPlotAndHoldOn，以下简记为 dfp  \n"
   ]
  },
  {
   "cell_type": "code",
   "execution_count": 15,
   "metadata": {
    "collapsed": false
   },
   "outputs": [
    {
     "name": "stdout",
     "output_type": "stream",
     "text": [
      "[[0, 0], [0.5, 3.853645833333333], [1.0, 6.191925726996528], [1.5, 7.6107257666411225], [2.0, 8.47161224902964], [2.5, 8.993973057353923], [3.0, 9.31092636032152], [3.5, 9.503244380090923], [4.0, 9.619937345211419], [4.5, 9.69074323290172], [5.0, 9.733706180380471], [5.5, 9.759774843824609], [6.0, 9.775592548466495], [6.5, 9.785190270293473], [7.0, 9.79101388796453], [7.5, 9.794547489311812], [8.0, 9.79669157554597], [8.5, 9.797992544537008], [9.0, 9.79878193457584], [9.5, 9.799260913427528], [10.0, 9.799551543824515]]\n"
     ]
    }
   ],
   "source": [
    "\n",
    "def airDragedFallingFunc3(a,b):\n",
    "    return lambda t,v: a - b * v\n",
    "print dSolve(airDragedFallingFunc3(9.8, 1. ), 0, 10.,0.5)\n",
    "dfp(airDragedFallingFunc3(9.8, 1. ), 0, 10.,0.05,\"ForwardEuler\")\n"
   ]
  },
  {
   "cell_type": "markdown",
   "metadata": {},
   "source": [
    "![](https://raw.githubusercontent.com/loading99pct/computationalphysics_N2013301020062/master/chap-1/airDragedFallingFunc3.png)"
   ]
  },
  {
   "cell_type": "markdown",
   "metadata": {},
   "source": [
    "当采用不同的步长时：  "
   ]
  },
  {
   "cell_type": "code",
   "execution_count": 25,
   "metadata": {
    "collapsed": true
   },
   "outputs": [],
   "source": [
    "\n",
    "def airDragedFallingFunc3(a,b):\n",
    "    return lambda t,v: a - b * v\n",
    "    \n",
    "ddp(airDragedFallingFunc3(9.8, 1. ), 0, 8.,0.5,\"ForwardEuler\",\\\n",
    "    [\"step size = 0.5\"])\n",
    "ddp(airDragedFallingFunc3(9.8, 1. ), 0, 8.,0.1,\"ForwardEuler\",\\\n",
    "    [\"step size = 0.05\"])\n",
    "ddp(airDragedFallingFunc3(9.8, 1. ), 0, 8.,0.005,\"ForwardEuler\",\\\n",
    "    [\"step size = 0.005\"],\"t/s\", \"v/m.s-1\",\"air Draged Falling\")\n",
    "plt.show()\n",
    "    "
   ]
  },
  {
   "cell_type": "markdown",
   "metadata": {},
   "source": [
    "![ds](https://raw.githubusercontent.com/loading99pct/computationalphysics_N2013301020062/master/chap-1/airDragedFallingFunc3%20-%20cmp1.png)"
   ]
  },
  {
   "cell_type": "markdown",
   "metadata": {},
   "source": [
    "\n",
    "随着步长减小，解从单侧逐渐靠近真实值。  \n"
   ]
  },
  {
   "cell_type": "markdown",
   "metadata": {},
   "source": [
    "\n",
    "相同步长，当采用不同方法时：  \n"
   ]
  },
  {
   "cell_type": "code",
   "execution_count": 27,
   "metadata": {
    "collapsed": false
   },
   "outputs": [],
   "source": [
    "stpsz = 0.8\n",
    "\n",
    "ddp(airDragedFallingFunc3(9.8, 1. ), 0, 8.,stpsz,\"ForwardEuler\",\\\n",
    "    [\"ForwardEuler\"])\n",
    "ddp(airDragedFallingFunc3(9.8, 1. ), 0, 8.,stpsz,\"ExplicitTrapezoidal\",\\\n",
    "    [\"ExplicitTrapezoidal\"])\n",
    "ddp(airDragedFallingFunc3(9.8, 1. ), 0, 8.,stpsz,\"Midpoint\",\\\n",
    "    [\"Midpoint\"])\n",
    "ddp(airDragedFallingFunc3(9.8, 1. ), 0, 8.,stpsz,\"RK4\",\\\n",
    "    [\"RK4\"])\n",
    "\n",
    "xx = np.linspace(0., 8., 256, endpoint=True)\n",
    "vv =9.8 -9.8*np.exp(-xx)\n",
    "plt.plot(xx,vv,label = \"real solution\")\n",
    "plt.legend(loc='upper right', frameon=False)\n",
    "plt.show()"
   ]
  },
  {
   "cell_type": "markdown",
   "metadata": {},
   "source": [
    "![](https://raw.githubusercontent.com/loading99pct/computationalphysics_N2013301020062/master/chap-1/airDragedFallingFunc3%20-%20cmp2.png)"
   ]
  },
  {
   "cell_type": "markdown",
   "metadata": {},
   "source": [
    "可以看出，即使在步长极大时，RK4方法仍符合的很好  "
   ]
  },
  {
   "cell_type": "markdown",
   "metadata": {},
   "source": [
    "第四题演示dSolve求解多元ODE，图片仅为示意，坐标从略  "
   ]
  },
  {
   "cell_type": "code",
   "execution_count": 19,
   "metadata": {
    "collapsed": false
   },
   "outputs": [
    {
     "name": "stdout",
     "output_type": "stream",
     "text": [
      "[[0, array([ 1.5,  0. ])], [0.5, array([ 0.91015625,  0.453125  ])], [1.0, array([ 0.55225627,  0.54988607])], [1.5, array([ 0.33509299,  0.50048224])], [2.0, array([ 0.20332466,  0.40490404])], [2.5, array([ 0.12337147,  0.30710495])], [3.0, array([ 0.07485821,  0.22361079])], [3.5, array([ 0.04542178,  0.15829392])], [4.0, array([ 0.02756061,  0.1097693 ])], [4.5, array([ 0.01672297,  0.07493041])], [5.0, array([ 0.01014701,  0.05051732])], [5.5, array([ 0.00615691,  0.03371768])], [6.0, array([ 0.00373583,  0.0223188 ])], [6.5, array([ 0.0022668 ,  0.01467093])], [7.0, array([ 0.00137543,  0.00958666])], [7.5, array([ 0.00083457,  0.0062324 ])], [8.0, array([ 0.00050639,  0.00403375])], [8.5, array([ 0.00030726,  0.00260053])], [9.0, array([ 0.00018644,  0.00167075])], [9.5, array([ 0.00011313,  0.00107008])], [10.0, array([  6.86412513e-05,   6.83466537e-04])]]\n"
     ]
    }
   ],
   "source": [
    "\n",
    "def decayFunc4(tauA, tauB):\n",
    "    return lambda t,nab: np.dot(array([[-1./tauA, 0],[1./tauA,-1./tauB]]),nab)\n",
    "print dSolve(decayFunc4(1.,1.), array([1.5,0.]), 10.,0.5,\"RK4\")\n",
    "dfp(decayFunc4(1.,1.), array([1.5,0.]), 10.,0.05,\"RK4\")\n"
   ]
  },
  {
   "cell_type": "markdown",
   "metadata": {},
   "source": [
    "![](https://raw.githubusercontent.com/loading99pct/computationalphysics_N2013301020062/master/chap-1/decayFunc4-1.png)"
   ]
  },
  {
   "cell_type": "markdown",
   "metadata": {},
   "source": [
    "第五题，达到平衡态：  "
   ]
  },
  {
   "cell_type": "code",
   "execution_count": 30,
   "metadata": {
    "collapsed": true
   },
   "outputs": [],
   "source": [
    "def decayFunc5(tauA, tauB):\n",
    "    return lambda t,nab: np.dot(array([[-1./tauA,1./tauB],[1./tauA,-1./tauB]]),nab)\n",
    "ddp(decayFunc5(1.,1.5), array([2.0,0.5]), 5.,0.05,\"RK4\",[\"N_A\",\"N_B\"],\"t/s\",\"N/1\")\n",
    "plt.show()\n"
   ]
  },
  {
   "cell_type": "markdown",
   "metadata": {},
   "source": [
    "![](https://raw.githubusercontent.com/loading99pct/computationalphysics_N2013301020062/master/chap-1/decayFunc5.png)"
   ]
  }
 ],
 "metadata": {
  "kernelspec": {
   "display_name": "Python 2",
   "language": "python",
   "name": "python2"
  },
  "language_info": {
   "codemirror_mode": {
    "name": "ipython",
    "version": 2
   },
   "file_extension": ".py",
   "mimetype": "text/x-python",
   "name": "python",
   "nbconvert_exporter": "python",
   "pygments_lexer": "ipython2",
   "version": "2.7.11"
  }
 },
 "nbformat": 4,
 "nbformat_minor": 0
}
