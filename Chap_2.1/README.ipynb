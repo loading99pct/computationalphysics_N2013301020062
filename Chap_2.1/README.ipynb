{
 "cells": [
  {
   "cell_type": "markdown",
   "metadata": {},
   "source": [
    "# 考虑空气阻力随高度变化下的抛体问题 #"
   ]
  },
  {
   "cell_type": "markdown",
   "metadata": {},
   "source": [
    "上次作业中，我们已经定义了在给定时间区间内求解一般微分方程的函数dSolve，   \n",
    "   \n",
    "[dSolve in Chap1](https://github.com/loading99pct/computationalphysics_N2013301020062/tree/master/chap-1)   \n",
    "   \n",
    "本次作业中，借助之前的求解方法函数，定义函数dSolveUntil, 此函数不断迭代，直到状态（t,X）满足某个条件stopQ,   \n",
    "返回解列表，此函数结构由nestUntilList给出   \n",
    "   \n",
    "修改画图函数，解除耦合，提取公因子；   \n",
    "定义函数easyPlotXYHoldON;   \n",
    "dSolutionFastPlot   \n",
    "dSolutionPlotAndHoldOn   \n",
    "detailedDSolutionPlotAndHoldOn    \n",
    "   \n",
    "\n",
    "\n"
   ]
  },
  {
   "cell_type": "markdown",
   "metadata": {},
   "source": [
    "本次作业中：   \n",
    "1, 考虑/不考虑 空气随高度变化时的影响的运动   \n",
    "   \n",
    "以下考虑空气随高度变化时的影响的运动   \n",
    "2, 给定速度，不同发射角度下的运动   \n",
    "3, 给定速度，不同发射角度下的落地点，以及最远落地点  \n",
    "4, 给定速度，改变角度以使物体的落地点在（X,Y），其中Y可与发射点不等高   "
   ]
  },
  {
   "cell_type": "markdown",
   "metadata": {},
   "source": [
    "## 考虑/不考虑 空气随高度变化时的影响的运动 ##"
   ]
  },
  {
   "cell_type": "markdown",
   "metadata": {},
   "source": [
    "已经定义了dSolveUntil,它和dSolve一样可以调用四种求解方法，默认采用 RK-4 求解   "
   ]
  },
  {
   "cell_type": "code",
   "execution_count": null,
   "metadata": {
    "collapsed": true
   },
   "outputs": [],
   "source": [
    "def dSolveUntil(func, x0, stepSize, stopQ, method = \"RK4\", tMax = 1000):\n",
    "    '''\n",
    "    doc: havent\n",
    "    stopQ is about a state\n",
    "    '''\n",
    "    x0 = normalize(x0)\n",
    "    maxStep = int(math.ceil(float(tMax) / stepSize))\n",
    "    methodFunc = __methodDictionary[method]\n",
    "    toNext = lambda state: methodFunc(state, func, stepSize)\n",
    "    return nestUntilList(toNext, makeState(0, x0), stopQ, maxStep)"
   ]
  },
  {
   "cell_type": "markdown",
   "metadata": {},
   "source": [
    "分别定义考虑/不考虑 空气随高度变化时的运动微分方程（被映射为某个函数）   "
   ]
  },
  {
   "cell_type": "markdown",
   "metadata": {},
   "source": [
    "不考虑空气随高度变化   "
   ]
  },
  {
   "cell_type": "code",
   "execution_count": null,
   "metadata": {
    "collapsed": true
   },
   "outputs": [],
   "source": [
    "def airDrugedTrajConstB2(B2OverM, g):\n",
    "    def foo(t,X):\n",
    "        [vx,vy,x,y] = X\n",
    "        v = math.sqrt(vx**2 + vy**2)\n",
    "        return array([-B2OverM*v*vx, -g -B2OverM*v*vy, vx, vy])\n",
    "    return foo\n",
    "    "
   ]
  },
  {
   "cell_type": "markdown",
   "metadata": {},
   "source": [
    "考虑空气随高度变化"
   ]
  },
  {
   "cell_type": "code",
   "execution_count": null,
   "metadata": {
    "collapsed": true
   },
   "outputs": [],
   "source": [
    "def airDrugedTrajVarB2(B2OverM0, g):\n",
    "    def foo(t,X):\n",
    "        [vx,vy,x,y] = X\n",
    "        v = math.sqrt(vx**2 + vy**2)\n",
    "        uniRho = (1 - 6.5e-3 * y / 288.15) ** 2.5\n",
    "        return array([-B2OverM0 * uniRho * v * vx, -g -B2OverM0 * uniRho * v * vy, vx, vy])\n",
    "    return foo"
   ]
  },
  {
   "cell_type": "markdown",
   "metadata": {},
   "source": [
    "落地条件（针对某一状态的谓词函数），通过这个停止条件，求解将一直进行直到物体落地   "
   ]
  },
  {
   "cell_type": "code",
   "execution_count": null,
   "metadata": {
    "collapsed": true
   },
   "outputs": [],
   "source": [
    "def stopQ(state):\n",
    "    return getT(state) != 0 and getX(state)[3] <= 0"
   ]
  },
  {
   "cell_type": "markdown",
   "metadata": {},
   "source": [
    "在vx = 700 m/s, vy = 700 m/s, 分别求解运动方程    "
   ]
  },
  {
   "cell_type": "code",
   "execution_count": null,
   "metadata": {
    "collapsed": true
   },
   "outputs": [],
   "source": [
    "ans1 = dSolveUntil(airDrugedTrajConstB2(4.0e-5, 9.8), array([700.,700.,0.,0.]), 0.05,stopQ)\n",
    "ans1v = reduceStateList(ans1, [0,1])\n",
    "ans1x = reduceStateList(ans1, [2,3])\n",
    "\n",
    "ans2 = dSolveUntil(airDrugedTrajVarB2(4.0e-5, 9.8), array([700.,700.,0.,0.]), 0.5,stopQ, tMax = 200)\n",
    "ans2v = reduceStateList(ans2, [0,1])\n",
    "ans2x = reduceStateList(ans2, [2,3])"
   ]
  },
  {
   "cell_type": "markdown",
   "metadata": {},
   "source": [
    "分别画出速度随时间变化,位置随时间变化，以及运动轨迹    "
   ]
  },
  {
   "cell_type": "code",
   "execution_count": null,
   "metadata": {
    "collapsed": true
   },
   "outputs": [],
   "source": [
    "# V-T\n",
    "ddp(ans1v,[\"vx Constant B2\",\"vy Constant B2\"])\n",
    "ddp(ans2v,[\"vx Varied B2(h)\",\"vy Varied B2(h)\"],\"t/s\", \"v/ m/s\",\"V-T\")\n",
    "plt.show() \n",
    "\n",
    "# X-T\n",
    "ddp(ans1x,[\"x Constant B2\",\"y Constant B2\"])\n",
    "ddp(ans2x,[\"x Varied B2(h)\",\"y Varied B2(h)\"],\"t/s\", \"x/m\",\"X - T & Y - T\")\n",
    "plt.show() \n",
    "\n",
    "# Y-X\n",
    "easyPlotXYHoldON(getXiList(ans1x,1),getXiList(ans1x,2), \"Constant B2\")\n",
    "easyPlotXYHoldON(getXiList(ans2x,1),getXiList(ans2x,2), \"Varied B2(h)\",\"x/m\",\"y/m\", \"Y - X\")\n",
    "plt.show() "
   ]
  },
  {
   "cell_type": "markdown",
   "metadata": {},
   "source": [
    "速度随时间变化    "
   ]
  },
  {
   "cell_type": "markdown",
   "metadata": {},
   "source": [
    "![](https://raw.githubusercontent.com/loading99pct/computationalphysics_N2013301020062/master/Chap_2.1/pic/1-with-or-without-1.png)   "
   ]
  },
  {
   "cell_type": "markdown",
   "metadata": {},
   "source": [
    "位置随时间变化   "
   ]
  },
  {
   "cell_type": "markdown",
   "metadata": {},
   "source": [
    "![](https://raw.githubusercontent.com/loading99pct/computationalphysics_N2013301020062/master/Chap_2.1/pic/1-with-or-without-2.png)   "
   ]
  },
  {
   "cell_type": "markdown",
   "metadata": {},
   "source": [
    "运动轨迹   "
   ]
  },
  {
   "cell_type": "markdown",
   "metadata": {},
   "source": [
    "![](https://raw.githubusercontent.com/loading99pct/computationalphysics_N2013301020062/master/Chap_2.1/pic/1-with-or-without-3.png)   "
   ]
  },
  {
   "cell_type": "markdown",
   "metadata": {},
   "source": [
    "## 给定速度，求解不同发射角度下的运动 ##"
   ]
  },
  {
   "cell_type": "markdown",
   "metadata": {},
   "source": [
    "定义通过给定角度求解运动方程（直到落地）的函数   "
   ]
  },
  {
   "cell_type": "code",
   "execution_count": null,
   "metadata": {
    "collapsed": true
   },
   "outputs": [],
   "source": [
    "def solveTrajectoryByAngle(speed, angle):\n",
    "    theta = angle * math.pi / 180.\n",
    "    vx = speed * math.cos(theta)\n",
    "    vy = speed * math.sin(theta)\n",
    "    return dSolveUntil(airDrugedTrajVarB2(4.0e-5, 9.8), array([vx,vy,0.,0.]), 0.05,stopQ)"
   ]
  },
  {
   "cell_type": "markdown",
   "metadata": {},
   "source": [
    "速度默认700 m/s, 调整发射角度，求得轨迹如下   "
   ]
  },
  {
   "cell_type": "code",
   "execution_count": null,
   "metadata": {
    "collapsed": true
   },
   "outputs": [],
   "source": [
    "for angle in range(10,90,10):\n",
    "    ans1 = solveTrajectoryByAngle(700., angle)\n",
    "    ans1x = reduceStateList(ans1, [2,3])\n",
    "    easyPlotXYHoldON(getXiList(ans1x,1),getXiList(ans1x,2), \"Theta = \"+str(angle),\"x/m\",\"y/m\", \"Y - X\")\n",
    "plt.ylim(0,15000)\n",
    "plt.show() "
   ]
  },
  {
   "cell_type": "markdown",
   "metadata": {},
   "source": [
    "![](https://raw.githubusercontent.com/loading99pct/computationalphysics_N2013301020062/master/Chap_2.1/pic/different-angle-1.png)   "
   ]
  },
  {
   "cell_type": "markdown",
   "metadata": {},
   "source": [
    "加密发射角度的采样，得到轨迹的包络，这是物体可达到的范围   "
   ]
  },
  {
   "cell_type": "code",
   "execution_count": null,
   "metadata": {
    "collapsed": true
   },
   "outputs": [],
   "source": [
    "for angle in range(10,90,3):\n",
    "    ans1 = solveTrajectoryByAngle(700., angle)\n",
    "    ans1x = reduceStateList(ans1, [2,3])\n",
    "    easyPlotXYHoldON(getXiList(ans1x,1),getXiList(ans1x,2),\"\",\"x/m\",\"y/m\", \"Y - X\")\n",
    "plt.ylim(0,15000)\n",
    "plt.show() "
   ]
  },
  {
   "cell_type": "markdown",
   "metadata": {},
   "source": [
    "![](https://raw.githubusercontent.com/loading99pct/computationalphysics_N2013301020062/master/Chap_2.1/pic/different-angle-2.png)   "
   ]
  },
  {
   "cell_type": "markdown",
   "metadata": {},
   "source": [
    "## 给定速度，不同发射角度下的落地点，以及最远落地点 ##"
   ]
  },
  {
   "cell_type": "markdown",
   "metadata": {},
   "source": [
    "定义通过给定解提取落地点距离的函数   "
   ]
  },
  {
   "cell_type": "code",
   "execution_count": null,
   "metadata": {
    "collapsed": true
   },
   "outputs": [],
   "source": [
    "\n",
    "def landingX(result):\n",
    "    finalState = result[-1]\n",
    "    return getX(finalState)[2]\n"
   ]
  },
  {
   "cell_type": "markdown",
   "metadata": {},
   "source": [
    "从而定义给定速度，发射角度，给出落地距离的函数   "
   ]
  },
  {
   "cell_type": "code",
   "execution_count": null,
   "metadata": {
    "collapsed": true
   },
   "outputs": [],
   "source": [
    "\n",
    "def landingPointByAngle(speed, angle):\n",
    "    return landingX(solveTrajectoryByAngle(speed, angle))\n"
   ]
  },
  {
   "cell_type": "markdown",
   "metadata": {},
   "source": [
    "画出落地点关于发射角度（在给定速度v = 700.m/s时）的关系"
   ]
  },
  {
   "cell_type": "markdown",
   "metadata": {},
   "source": [
    "![](https://raw.githubusercontent.com/loading99pct/computationalphysics_N2013301020062/master/Chap_2.1/pic/landing-point.png)    "
   ]
  },
  {
   "cell_type": "markdown",
   "metadata": {},
   "source": [
    "求解最大距离时的反射角度，即是求解函数 lambda angle: landingPointByAngle(700., angle) 的最大值   "
   ]
  },
  {
   "cell_type": "code",
   "execution_count": null,
   "metadata": {
    "collapsed": true
   },
   "outputs": [],
   "source": [
    "\n",
    "landFarestTheta = maximize(lambda angle: landingPointByAngle(700., angle), 40., method='Nelder-Mead', tol=1e-6).x\n"
   ]
  },
  {
   "cell_type": "markdown",
   "metadata": {},
   "source": [
    "最远射程对应的角度 landFarestTheta = -43.531   \n",
    "最远射程： 24640.14 m   "
   ]
  },
  {
   "cell_type": "markdown",
   "metadata": {},
   "source": [
    "##  给定速度，改变角度以使物体的落地点在（X,Y），其中Y可与发射点不等高 ##"
   ]
  },
  {
   "cell_type": "markdown",
   "metadata": {},
   "source": [
    "此问题不是初值问题（IVP）,属于边界值问题（BVP），瞄准求解   "
   ]
  },
  {
   "cell_type": "markdown",
   "metadata": {},
   "source": [
    "给定速度下，物体达到给定X_Tar位置时的Y位置是发射角度的函数,   \n",
    "所以Y和Y_Tar的差值是发射角度的函数,   \n",
    "当准确落在（X_Tar，Y_Tar），Y（theta） - Y_Tar == 0   \n",
    "问题转化为求解方程Y（theta） - Y_Tar == 0的根   "
   ]
  },
  {
   "cell_type": "markdown",
   "metadata": {},
   "source": [
    "定义方程左手边为函数：   "
   ]
  },
  {
   "cell_type": "code",
   "execution_count": null,
   "metadata": {
    "collapsed": true
   },
   "outputs": [],
   "source": [
    "def solvediffByAngle(speed, angle,xTarget, yTarget):\n",
    "    def stop2Q(state,xm):\n",
    "        return getX(state)[2] >= xm \n",
    "    theta = angle * math.pi / 180.\n",
    "    vx = speed * math.cos(theta)\n",
    "    vy = speed * math.sin(theta)\n",
    "    ans = dSolveUntil(airDrugedTrajVarB2(4.0e-5, 9.8), array([vx,vy,0.,0.]), 0.5,lambda x:stop2Q(x,xTarget),tMax = 3000)\n",
    "    finalState = ans[-1]\n",
    "    diff =  getX(finalState)[3] - yTarget\n",
    "    return diff"
   ]
  },
  {
   "cell_type": "markdown",
   "metadata": {},
   "source": [
    "它给出Y（theta） - Y_Tar   "
   ]
  },
  {
   "cell_type": "markdown",
   "metadata": {},
   "source": [
    "二分法求根，注意到给定速度大小，解不唯一，问题有两个解   "
   ]
  },
  {
   "cell_type": "markdown",
   "metadata": {},
   "source": [
    "假设给定速度 V = 500 m/s; 目标落点 （10000.， 4000.）   "
   ]
  },
  {
   "cell_type": "code",
   "execution_count": null,
   "metadata": {
    "collapsed": true
   },
   "outputs": [],
   "source": [
    "\n",
    "vel = 500.\n",
    "xTarget = 10000.\n",
    "yTarget = 4000.\n",
    "\n",
    "theta1 = bisect(lambda a: solvediffByAngle(vel, a, xTarget, yTarget),40.,50.)\n",
    "theta2 = bisect(lambda a: solvediffByAngle(vel, a, xTarget, yTarget),60.,70.)\n"
   ]
  },
  {
   "cell_type": "markdown",
   "metadata": {},
   "source": [
    "theta1 = 41.05 degree   \n",
    "theta1 = 66.46 degree   "
   ]
  },
  {
   "cell_type": "markdown",
   "metadata": {},
   "source": [
    "画出两条轨迹   "
   ]
  },
  {
   "cell_type": "code",
   "execution_count": null,
   "metadata": {
    "collapsed": true
   },
   "outputs": [],
   "source": [
    "def solveTrajectoryByAngleQ2(speed, angle,xTarget, yTarget):\n",
    "    def stop2Q(state,xTarget):\n",
    "        return getX(state)[2] >= xTarget \n",
    "    theta = angle * math.pi / 180.\n",
    "    vx = speed * math.cos(theta)\n",
    "    vy = speed * math.sin(theta)\n",
    "    return dSolveUntil(airDrugedTrajVarB2(4.0e-5, 9.8), array([vx,vy,0.,0.]), 0.05,lambda s:stop2Q(s,xTarget))\n",
    "\n",
    "ans1 = solveTrajectoryByAngleQ2(vel, theta1, xTarget, yTarget)\n",
    "ans1x = reduceStateList(ans1, [2,3])\n",
    "easyPlotXYHoldON(getXiList(ans1x,1),getXiList(ans1x,2),\"theta = \"+str(theta1),\"x/m\",\"y/m\", \"Y - X\")\n",
    "\n",
    "ans1 = solveTrajectoryByAngleQ2(vel, theta2, xTarget, yTarget)\n",
    "ans1x = reduceStateList(ans1, [2,3])\n",
    "easyPlotXYHoldON(getXiList(ans1x,1),getXiList(ans1x,2),\"theta = \"+str(theta2),\"x/m\",\"y/m\", \"Y - X\")\n",
    "plt.ylim(0,9000)\n",
    "plt.show()"
   ]
  },
  {
   "cell_type": "markdown",
   "metadata": {},
   "source": [
    "![](https://raw.githubusercontent.com/loading99pct/computationalphysics_N2013301020062/master/Chap_2.1/pic/shoot.png)   "
   ]
  }
 ],
 "metadata": {
  "kernelspec": {
   "display_name": "Python 2",
   "language": "python",
   "name": "python2"
  },
  "language_info": {
   "codemirror_mode": {
    "name": "ipython",
    "version": 2
   },
   "file_extension": ".py",
   "mimetype": "text/x-python",
   "name": "python",
   "nbconvert_exporter": "python",
   "pygments_lexer": "ipython2",
   "version": "2.7.11"
  }
 },
 "nbformat": 4,
 "nbformat_minor": 0
}
