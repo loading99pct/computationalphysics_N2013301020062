{
 "cells": [
  {
   "cell_type": "markdown",
   "metadata": {},
   "source": [
    "# Assignment_3"
   ]
  },
  {
   "cell_type": "markdown",
   "metadata": {},
   "source": [
    "## 数据的处理"
   ]
  },
  {
   "cell_type": "markdown",
   "metadata": {},
   "source": [
    "处理如下文件，得到从字母到点阵信息的字典"
   ]
  },
  {
   "cell_type": "raw",
   "metadata": {},
   "source": [
    "0x00,0x00,0x2f,0x00,0x00,!\n",
    "0x00,0x60,0x60,0x00,0x00,.\n",
    "0x00,0x00,0x00,0x00,0x00, \n",
    "0x7E,0x11,0x11,0x11,0x7E,A\n",
    "0x7F,0x49,0x49,0x49,0x36,B\n",
    "0x3E,0x41,0x41,0x41,0x22,C\n",
    "0x7F,0x41,0x41,0x22,0x1C,D\n",
    ".\n",
    ".\n",
    ".\n",
    "0x1C,0x20,0x40,0x20,0x1C,v\n",
    "0x3C,0x40,0x30,0x40,0x3C,w\n",
    "0x44,0x28,0x10,0x28,0x44,x\n",
    "0x0C,0x50,0x50,0x50,0x3C,y\n",
    "0x44,0x64,0x54,0x4C,0x44,z"
   ]
  },
  {
   "cell_type": "markdown",
   "metadata": {},
   "source": [
    "希望通过‘charDict.py’文件，读入上述txt文件，并生成字典"
   ]
  },
  {
   "cell_type": "raw",
   "metadata": {},
   "source": [
    "{'!': ['0000000', '0000000', '0101111', '0000000', '0000000'],\n",
    "'.': ['0000000', '1100000', '1100000', '0000000', '0000000'],\n",
    "'A': ['1111110', '0010001', '0010001', '0010001', '1111110'],\n",
    ".\n",
    ".\n",
    ".\n",
    "'v': ['0011100', '0100000', '1000000', '0100000', '0011100'],\n",
    "'y': ['0001100', '1010000', '1010000', '1010000', '0111100'], \n",
    "'x': ['1000100', '0101000', '0010000', '0101000', '1000100'], \n",
    "'z': ['1000100', '1100100', '1010100', '1001100', '1000100']}"
   ]
  },
  {
   "cell_type": "markdown",
   "metadata": {},
   "source": [
    "代码如下："
   ]
  },
  {
   "cell_type": "code",
   "execution_count": 49,
   "metadata": {
    "collapsed": false
   },
   "outputs": [
    {
     "data": {
      "text/plain": [
       "\"\\ndef getPositionIJ(dictionary,letter,i,j):\\n    # return '1' or '0'\\n    # this function dose not abstract the data structure of the dictionary\\n    return dictionary[letter][j][rowNum-i]\\n\""
      ]
     },
     "execution_count": 49,
     "metadata": {},
     "output_type": "execute_result"
    }
   ],
   "source": [
    "import string\n",
    "\n",
    "columnNum = 5\n",
    "rowNum = 7\n",
    "\n",
    "def getDictionary():\n",
    "    '''\n",
    "    usage myDict=getDictionary()\n",
    "    '''\n",
    "\n",
    "    def normALine(a):\n",
    "        '''\n",
    "        st = ['0x00', '0x00', '0x2f', '0x00', '0x00', '!\\n']\n",
    "        to  ['0x00', '0x00', '0x2f', '0x00', '0x00', '!']\n",
    "        ( left to right [bottom to top, bottom to top, ...] )\n",
    "        '''\n",
    "        a[-1]=a[-1][0]\n",
    "        return a\n",
    "\n",
    "    def strHexToStrBin7(st):\n",
    "        '''\n",
    "        strHexToStrBin7('0x3f')->'011111'\n",
    "        '''\n",
    "        def strHexToStrBin(st):\n",
    "            num=int(st,16)\n",
    "            return bin(num)[2:]\n",
    "        def completeToN(st,num):\n",
    "            if len(st) < num:\n",
    "                 st = '0'*(num - len(st)) + st\n",
    "            return st\n",
    "        def completeTo7(st):\n",
    "            # '1011' to '0001011'\n",
    "            return completeToN(st,7)\n",
    "        return completeTo7(strHexToStrBin(st))\n",
    "\n",
    "    odata=open('data.txt','r')\n",
    "    lineN=54\n",
    "    ldata=[]\n",
    "    for line in odata:\n",
    "        ldata.append(line.split(','))\n",
    "    charDict={}\n",
    "    for eachdata in ldata:\n",
    "        eachdata=normALine(eachdata)\n",
    "        charDict[eachdata[-1]] = map(strHexToStrBin7,eachdata[0:-1])\n",
    "    odata.close()\n",
    "    return charDict\n",
    "\n",
    "\n",
    "def blackQ(dictionary,letter,i,j):\n",
    "    # return True or False\n",
    "    return dictionary[letter][j][rowNum-i] == '1'\n",
    "'''\n",
    "def getPositionIJ(dictionary,letter,i,j):\n",
    "    # return '1' or '0'\n",
    "    # this function dose not abstract the data structure of the dictionary\n",
    "    return dictionary[letter][j][rowNum-i]\n",
    "'''"
   ]
  },
  {
   "cell_type": "markdown",
   "metadata": {},
   "source": [
    "通过charDict = getDictionary()得到字典"
   ]
  },
  {
   "cell_type": "code",
   "execution_count": 9,
   "metadata": {
    "collapsed": false,
    "scrolled": true
   },
   "outputs": [
    {
     "data": {
      "text/plain": [
       "{' ': ['0000000', '0000000', '0000000', '0000000', '0000000'],\n",
       " '!': ['0000000', '0000000', '0101111', '0000000', '0000000'],\n",
       " '.': ['0000000', '1100000', '1100000', '0000000', '0000000'],\n",
       " 'A': ['1111110', '0010001', '0010001', '0010001', '1111110'],\n",
       " 'B': ['1111111', '1001001', '1001001', '1001001', '0110110'],\n",
       " 'C': ['0111110', '1000001', '1000001', '1000001', '0100010'],\n",
       " 'D': ['1111111', '1000001', '1000001', '0100010', '0011100'],\n",
       " 'E': ['1111111', '1001001', '1001001', '1001001', '1000001'],\n",
       " 'F': ['1111111', '0001001', '0001001', '0001001', '0000001'],\n",
       " 'G': ['0111110', '1000001', '1001001', '1001001', '1111010'],\n",
       " 'H': ['1111111', '0001000', '0001000', '0001000', '1111111'],\n",
       " 'I': ['0000000', '1000001', '1111111', '1000001', '0000000'],\n",
       " 'J': ['0100000', '1000000', '1000001', '0111111', '0000001'],\n",
       " 'K': ['1111111', '0001000', '0010100', '0100010', '1000001'],\n",
       " 'L': ['1111111', '1000000', '1000000', '1000000', '1000000'],\n",
       " 'M': ['1111111', '0000010', '0001100', '0000010', '1111111'],\n",
       " 'N': ['1111111', '0000100', '0001000', '0010000', '1111111'],\n",
       " 'O': ['0111110', '1000001', '1000001', '1000001', '0111110'],\n",
       " 'P': ['1111111', '0001001', '0001001', '0001001', '0000110'],\n",
       " 'Q': ['0111110', '1000001', '1010001', '0100001', '1011110'],\n",
       " 'R': ['1111111', '0001001', '0011001', '0101001', '1000110'],\n",
       " 'S': ['1000110', '1001001', '1001001', '1001001', '0110001'],\n",
       " 'T': ['0000001', '0000001', '1111111', '0000001', '0000001'],\n",
       " 'U': ['0111111', '1000000', '1000000', '1000000', '0111111'],\n",
       " 'V': ['0011111', '0100000', '1000000', '0100000', '0011111'],\n",
       " 'W': ['0111111', '1000000', '0111000', '1000000', '0111111'],\n",
       " 'X': ['1100011', '0010100', '0001000', '0010100', '1100011'],\n",
       " 'Y': ['0000111', '0001000', '1110000', '0001000', '0000111'],\n",
       " 'Z': ['1100001', '1010001', '1001001', '1000101', '1000011'],\n",
       " 'a': ['0100000', '1010100', '1010100', '1010100', '1111000'],\n",
       " 'b': ['1111111', '1001000', '1000100', '1000100', '0111000'],\n",
       " 'c': ['0111000', '1000100', '1000100', '1000100', '0100000'],\n",
       " 'd': ['0111000', '1000100', '1000100', '1001000', '1111111'],\n",
       " 'e': ['0111000', '1010100', '1010100', '1010100', '0011000'],\n",
       " 'f': ['0001000', '1111110', '0001001', '0000001', '0000010'],\n",
       " 'g': ['0001100', '1010010', '1010010', '1010010', '0111110'],\n",
       " 'h': ['1111111', '0001000', '0000100', '0000100', '1111000'],\n",
       " 'i': ['0000000', '1000100', '1111101', '1000000', '0000000'],\n",
       " 'j': ['0100000', '1000000', '1000100', '0111101', '0000000'],\n",
       " 'k': ['1111111', '0010000', '0101000', '1000100', '0000000'],\n",
       " 'l': ['0000000', '1000001', '1111111', '1000000', '0000000'],\n",
       " 'm': ['1111100', '0000100', '0011000', '0000100', '1111000'],\n",
       " 'n': ['1111100', '0001000', '0000100', '0000100', '1111000'],\n",
       " 'o': ['0111000', '1000100', '1000100', '1000100', '0111000'],\n",
       " 'p': ['1111100', '0010100', '0010100', '0010100', '0001000'],\n",
       " 'q': ['0001000', '0010100', '0010100', '0011000', '1111100'],\n",
       " 'r': ['1111100', '0001000', '0000100', '0000100', '0001000'],\n",
       " 's': ['1001000', '1010100', '1010100', '1010100', '0100000'],\n",
       " 't': ['0000100', '0111111', '1000100', '1000000', '0100000'],\n",
       " 'u': ['0111100', '1000000', '1000000', '0100000', '1111100'],\n",
       " 'v': ['0011100', '0100000', '1000000', '0100000', '0011100'],\n",
       " 'w': ['0111100', '1000000', '0110000', '1000000', '0111100'],\n",
       " 'x': ['1000100', '0101000', '0010000', '0101000', '1000100'],\n",
       " 'y': ['0001100', '1010000', '1010000', '1010000', '0111100'],\n",
       " 'z': ['1000100', '1100100', '1010100', '1001100', '1000100']}"
      ]
     },
     "execution_count": 9,
     "metadata": {},
     "output_type": "execute_result"
    }
   ],
   "source": [
    "charDict"
   ]
  },
  {
   "cell_type": "markdown",
   "metadata": {},
   "source": [
    "函数def blackQ(dictionary,letter,i,j)通过数据抽象将数据的表式（在‘charDict.py’中）与‘printStar.py’中数据的使用隔离开。注意到python中同样存在位级运算，可以在之后将数据的表示仍采用原始数据的十六进制，只需修改界面函数，而不影响打印程序。"
   ]
  },
  {
   "cell_type": "code",
   "execution_count": 10,
   "metadata": {
    "collapsed": true
   },
   "outputs": [],
   "source": [
    "def blackQ(dictionary,letter,i,j):\n",
    "    # return True or False\n",
    "    return dictionary[letter][j][rowNum-i] == '1'"
   ]
  },
  {
   "cell_type": "markdown",
   "metadata": {},
   "source": [
    "## 数据打印"
   ]
  },
  {
   "cell_type": "markdown",
   "metadata": {},
   "source": [
    "如下界面函数用于打印字母："
   ]
  },
  {
   "cell_type": "code",
   "execution_count": 11,
   "metadata": {
    "collapsed": true
   },
   "outputs": [],
   "source": [
    "def printAShortString(dictionary, string, star = '*',  magnificationFactorX = 1, magnificationFactorY = 1):\n",
    "    '''\n",
    "    defination\n",
    "    具体变量作用如下：\n",
    "        string 为待打印的字符或字符串\n",
    "        star变量表示用何种符号填充字符，默认为星号 *\n",
    "        magnificationFactorX, magnificationFactorY 分别用来指定沿横向和纵向的放大倍数，默认为2， 1\n",
    "    '''\n",
    "def ezPrint(string, star = '*',  magnificationFactorX = 2, magnificationFactorY = 1):\n",
    "   '''\n",
    "   easy print \n",
    "   '''\n",
    "\n"
   ]
  },
  {
   "cell_type": "markdown",
   "metadata": {},
   "source": [
    "由于在全局变量中定义了charDict为字典，采用ezPrint方便打印"
   ]
  },
  {
   "cell_type": "markdown",
   "metadata": {},
   "source": [
    "### string 为待打印的字符或字符串 ###"
   ]
  },
  {
   "cell_type": "code",
   "execution_count": 16,
   "metadata": {
    "collapsed": false,
    "scrolled": true
   },
   "outputs": [
    {
     "name": "stdout",
     "output_type": "stream",
     "text": [
      "             \n",
      "             \n",
      "     ******  \n",
      "           **\n",
      "     ********\n",
      "   **      **\n",
      "     ********\n"
     ]
    }
   ],
   "source": [
    "ezPrint('a')"
   ]
  },
  {
   "cell_type": "code",
   "execution_count": 17,
   "metadata": {
    "collapsed": false
   },
   "outputs": [
    {
     "name": "stdout",
     "output_type": "stream",
     "text": [
      "   ********                      **                      **      \n",
      "   **      **                                            **      \n",
      "   **      **   **  ****       ****       **  ****     ******    \n",
      "   ********     ****    **       **       ****    **     **      \n",
      "   **           **               **       **      **     **      \n",
      "   **           **               **       **      **     **    **\n",
      "   **           **             ******     **      **       ****  \n"
     ]
    }
   ],
   "source": [
    "ezPrint('Print')"
   ]
  },
  {
   "cell_type": "markdown",
   "metadata": {},
   "source": [
    "### star变量表示用何种符号填充字符，默认为星号 * ###"
   ]
  },
  {
   "cell_type": "code",
   "execution_count": 26,
   "metadata": {
    "collapsed": false
   },
   "outputs": [
    {
     "name": "stdout",
     "output_type": "stream",
     "text": [
      "   WW      WW\n",
      "   WW      WW\n",
      "   WW      WW\n",
      "   WW  WW  WW\n",
      "   WW  WW  WW\n",
      "   WW  WW  WW\n",
      "     WW  WW  \n"
     ]
    }
   ],
   "source": [
    "ezPrint('W','W')"
   ]
  },
  {
   "cell_type": "code",
   "execution_count": 32,
   "metadata": {
    "collapsed": false
   },
   "outputs": [
    {
     "name": "stdout",
     "output_type": "stream",
     "text": [
      "                                       \n",
      "                                       \n",
      "     OOOOOO     OO  OOOO     OOOOOOOOOO\n",
      "   OO      OO   OOOO    OO         OO  \n",
      "   OO      OO   OO               OO    \n",
      "   OO      OO   OO             OO      \n",
      "     OOOOOO     OO           OOOOOOOOOO\n"
     ]
    }
   ],
   "source": [
    "ezPrint('orz','O')"
   ]
  },
  {
   "cell_type": "markdown",
   "metadata": {},
   "source": [
    "### magnificationFactorX, magnificationFactorY 分别用来指定沿横向和纵向的放大倍数，默认为2， 1 ###"
   ]
  },
  {
   "cell_type": "code",
   "execution_count": 33,
   "metadata": {
    "collapsed": false
   },
   "outputs": [
    {
     "name": "stdout",
     "output_type": "stream",
     "text": [
      "   $$$$$    $$$    $$$$$\n",
      "     $     $   $     $  \n",
      "     $     $   $     $  \n",
      "     $     $   $     $  \n",
      "     $     $$$$$     $  \n",
      "     $     $   $     $  \n",
      "     $     $   $     $  \n"
     ]
    }
   ],
   "source": [
    "ezPrint('TAT','$',1,1)"
   ]
  },
  {
   "cell_type": "code",
   "execution_count": 43,
   "metadata": {
    "collapsed": false
   },
   "outputs": [
    {
     "name": "stdout",
     "output_type": "stream",
     "text": [
      "   ~~~~~~~~~~     ~~~~~~     ~~~~~~~~~~\n",
      "       ~~       ~~      ~~       ~~    \n",
      "       ~~       ~~      ~~       ~~    \n",
      "       ~~       ~~      ~~       ~~    \n",
      "       ~~       ~~~~~~~~~~       ~~    \n",
      "       ~~       ~~      ~~       ~~    \n",
      "       ~~       ~~      ~~       ~~    \n"
     ]
    }
   ],
   "source": [
    "ezPrint('TAT','~',2,1)"
   ]
  },
  {
   "cell_type": "code",
   "execution_count": 40,
   "metadata": {
    "collapsed": false
   },
   "outputs": [
    {
     "name": "stdout",
     "output_type": "stream",
     "text": [
      "   ||||||||||||||||||||       ||||||||||||       ||||||||||||||||||||\n",
      "   ||||||||||||||||||||       ||||||||||||       ||||||||||||||||||||\n",
      "           ||||           ||||            ||||           ||||        \n",
      "           ||||           ||||            ||||           ||||        \n",
      "           ||||           ||||            ||||           ||||        \n",
      "           ||||           ||||            ||||           ||||        \n",
      "           ||||           ||||            ||||           ||||        \n",
      "           ||||           ||||            ||||           ||||        \n",
      "           ||||           ||||||||||||||||||||           ||||        \n",
      "           ||||           ||||||||||||||||||||           ||||        \n",
      "           ||||           ||||            ||||           ||||        \n",
      "           ||||           ||||            ||||           ||||        \n",
      "           ||||           ||||            ||||           ||||        \n",
      "           ||||           ||||            ||||           ||||        \n"
     ]
    }
   ],
   "source": [
    "ezPrint('TAT','|',4,2)"
   ]
  },
  {
   "cell_type": "code",
   "execution_count": 41,
   "metadata": {
    "collapsed": false
   },
   "outputs": [
    {
     "name": "stdout",
     "output_type": "stream",
     "text": [
      "   $$$$$$$$$$$$$$$$$$$$$$$$$$$$$$         $$$$$$$$$$$$$$$$$$         $$$$$$$$$$$$$$$$$$$$$$$$$$$$$$\n",
      "   $$$$$$$$$$$$$$$$$$$$$$$$$$$$$$         $$$$$$$$$$$$$$$$$$         $$$$$$$$$$$$$$$$$$$$$$$$$$$$$$\n",
      "   $$$$$$$$$$$$$$$$$$$$$$$$$$$$$$         $$$$$$$$$$$$$$$$$$         $$$$$$$$$$$$$$$$$$$$$$$$$$$$$$\n",
      "               $$$$$$               $$$$$$                  $$$$$$               $$$$$$            \n",
      "               $$$$$$               $$$$$$                  $$$$$$               $$$$$$            \n",
      "               $$$$$$               $$$$$$                  $$$$$$               $$$$$$            \n",
      "               $$$$$$               $$$$$$                  $$$$$$               $$$$$$            \n",
      "               $$$$$$               $$$$$$                  $$$$$$               $$$$$$            \n",
      "               $$$$$$               $$$$$$                  $$$$$$               $$$$$$            \n",
      "               $$$$$$               $$$$$$                  $$$$$$               $$$$$$            \n",
      "               $$$$$$               $$$$$$                  $$$$$$               $$$$$$            \n",
      "               $$$$$$               $$$$$$                  $$$$$$               $$$$$$            \n",
      "               $$$$$$               $$$$$$$$$$$$$$$$$$$$$$$$$$$$$$               $$$$$$            \n",
      "               $$$$$$               $$$$$$$$$$$$$$$$$$$$$$$$$$$$$$               $$$$$$            \n",
      "               $$$$$$               $$$$$$$$$$$$$$$$$$$$$$$$$$$$$$               $$$$$$            \n",
      "               $$$$$$               $$$$$$                  $$$$$$               $$$$$$            \n",
      "               $$$$$$               $$$$$$                  $$$$$$               $$$$$$            \n",
      "               $$$$$$               $$$$$$                  $$$$$$               $$$$$$            \n",
      "               $$$$$$               $$$$$$                  $$$$$$               $$$$$$            \n",
      "               $$$$$$               $$$$$$                  $$$$$$               $$$$$$            \n",
      "               $$$$$$               $$$$$$                  $$$$$$               $$$$$$            \n"
     ]
    }
   ],
   "source": [
    "ezPrint('TAT','$',6,3)"
   ]
  },
  {
   "cell_type": "markdown",
   "metadata": {},
   "source": [
    "具体代码如下（与代码源文件‘printStar.py’略有差别）："
   ]
  },
  {
   "cell_type": "code",
   "execution_count": 52,
   "metadata": {
    "collapsed": false
   },
   "outputs": [],
   "source": [
    "import os\n",
    "import time\n",
    "columnNum = 5\n",
    "rowNum = 7\n",
    "charDict = getDictionary()\n",
    "\n",
    "def printAShortString(dictionary, string, star = '*',  magnificationFactorX = 1, magnificationFactorY = 1):\n",
    "    # fill the pattern by,e.g., '*'\n",
    "    def getNthLineOfALetter(letter,nthRow):\n",
    "        line = ''\n",
    "        for j in range(columnNum):\n",
    "            if blackQ(dictionary, letter, nthRow, j):\n",
    "                line = line + magnificationFactorX * star\n",
    "            else:\n",
    "                line = line + magnificationFactorX * ' '\n",
    "        return line\n",
    "    def getNthLineOfAString(string, nthRow, gapNum):\n",
    "        # get ith line \n",
    "        line = ''\n",
    "        for letter in string:\n",
    "            line = line + gapNum*' ' + getNthLineOfALetter(letter, nthRow)\n",
    "        return line\n",
    "    \n",
    "    for nthRow in range(1, rowNum + 1):\n",
    "        for i in range(magnificationFactorY):\n",
    "            print getNthLineOfAString(string, nthRow, 3)\n",
    "            \n",
    "def ezPrint(string, star = '*',  magnificationFactorX = 2, magnificationFactorY = 1):\n",
    "    return printAShortString(charDict, string, star,  magnificationFactorX, magnificationFactorY)"
   ]
  },
  {
   "cell_type": "markdown",
   "metadata": {},
   "source": [
    "## 动画显示"
   ]
  },
  {
   "cell_type": "markdown",
   "metadata": {},
   "source": [
    "动画显示借助如下函数："
   ]
  },
  {
   "cell_type": "code",
   "execution_count": 44,
   "metadata": {
    "collapsed": true
   },
   "outputs": [],
   "source": [
    "def printAtPosition(dictionary, string, x = 0, y = 0, star = '*',  magnificationFactorX = 1, magnificationFactorY = 1):\n",
    "    '''\n",
    "    在屏幕制定位置（x，y）显示字符,\n",
    "    参数意义与上函数相同\n",
    "    '''\n"
   ]
  },
  {
   "cell_type": "markdown",
   "metadata": {},
   "source": [
    "借此，可以在屏幕一位置打印，等待后，清屏，再次打印，如此循环"
   ]
  },
  {
   "cell_type": "markdown",
   "metadata": {},
   "source": [
    "两个小动画如‘tinyMovie1.py’和‘tinyMovie1.py’，演示如下："
   ]
  },
  {
   "cell_type": "markdown",
   "metadata": {},
   "source": [
    "‘tinyMovie1.py’将某一字符串沿对角线反复移动（gif图片未压缩（1MB），流畅运行可能需要等待时间）"
   ]
  },
  {
   "cell_type": "markdown",
   "metadata": {},
   "source": [
    "![tiny_movie_1](https://raw.githubusercontent.com/loading99pct/computationalphysics_N2013301020062/master/Assignment_3/bandicam%202016-03-16%2001-18-21-191~2.gif)"
   ]
  },
  {
   "cell_type": "markdown",
   "metadata": {},
   "source": [
    "‘tinyMovie2.py’将某一字符串圆周运动（gif图片未压缩(0.5MB)，流畅运行可能需要等待时间）"
   ]
  },
  {
   "cell_type": "markdown",
   "metadata": {},
   "source": [
    "![tiny movie 1](https://raw.githubusercontent.com/loading99pct/computationalphysics_N2013301020062/master/Assignment_3/bandicam%202016-03-16%2001-16-51-488%2000_00_00-00_00_10~2.gif)"
   ]
  },
  {
   "cell_type": "markdown",
   "metadata": {},
   "source": [
    "两段演示代码核心部分如下："
   ]
  },
  {
   "cell_type": "markdown",
   "metadata": {},
   "source": [
    "1.在制定位置显示特定字符"
   ]
  },
  {
   "cell_type": "code",
   "execution_count": null,
   "metadata": {
    "collapsed": true
   },
   "outputs": [],
   "source": [
    "def printAtPosition(dictionary, string, x = 0, y = 0, star = '*',  magnificationFactorX = 1, magnificationFactorY = 1):\n",
    "    # fill the pattern by,e.g., '*'\n",
    "    '''if''' \n",
    "    def getNthLineOfALetter(letter,nthRow):\n",
    "        line = ''\n",
    "        for j in range(columnNum):\n",
    "            if blackQ(dictionary, letter, nthRow, j):\n",
    "                line = line + magnificationFactorX * star\n",
    "            else:\n",
    "                line = line + magnificationFactorX * ' '\n",
    "        return line\n",
    "    def getNthLineOfAString(string, nthRow, gapNum):\n",
    "        # get ith line \n",
    "        line = ''\n",
    "        for letter in string:\n",
    "            line = line + gapNum*' ' + getNthLineOfALetter(letter, nthRow)\n",
    "        return line\n",
    "        for i in range(x):\n",
    "            print ''\n",
    "    for nthRow in range(1, rowNum + 1):\n",
    "        for i in range(magnificationFactorY):\n",
    "            print ' ' * y+getNthLineOfAString(string, nthRow, 3)"
   ]
  },
  {
   "cell_type": "markdown",
   "metadata": {},
   "source": [
    "2.第一段演示动画核心部分"
   ]
  },
  {
   "cell_type": "code",
   "execution_count": null,
   "metadata": {
    "collapsed": true
   },
   "outputs": [],
   "source": [
    "for tms in range(10):#ten times\n",
    "    for i in range(30):\n",
    "        if i>=15:\n",
    "            x,y = 30-i,30-i\n",
    "        else:\n",
    "            x,y = i,i\n",
    "        os.system('cls')\n",
    "        printAtPosition(charDict, 'A', x , 2*y ,'*',1 ,1)\n",
    "        time.sleep(0.05)\n",
    "\n"
   ]
  },
  {
   "cell_type": "markdown",
   "metadata": {},
   "source": [
    "3.第二段演示动画核心部分"
   ]
  },
  {
   "cell_type": "code",
   "execution_count": null,
   "metadata": {
    "collapsed": true
   },
   "outputs": [],
   "source": [
    "for tms in range(8):#eight times\n",
    "    for num in range(0, int(math.pi/deltaTheta)+1):\n",
    "        theta = 2 * num * deltaTheta \n",
    "        x, y = int(round(oy + r * math.sin(theta))),int(round(ox + r * math.cos(theta)))\n",
    "\n",
    "        os.system('cls')\n",
    "        printAtPosition(charDict, 'M', x , 2*y ,'m',2 ,1)\n",
    "        time.sleep(0.05)\n"
   ]
  }
 ],
 "metadata": {
  "kernelspec": {
   "display_name": "Python 2",
   "language": "python",
   "name": "python2"
  },
  "language_info": {
   "codemirror_mode": {
    "name": "ipython",
    "version": 2
   },
   "file_extension": ".py",
   "mimetype": "text/x-python",
   "name": "python",
   "nbconvert_exporter": "python",
   "pygments_lexer": "ipython2",
   "version": "2.7.11"
  }
 },
 "nbformat": 4,
 "nbformat_minor": 0
}
