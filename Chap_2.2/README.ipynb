{
 "cells": [
  {
   "cell_type": "markdown",
   "metadata": {},
   "source": [
    "# 旋转物体的有阻尼抛体问题 #"
   ]
  },
  {
   "cell_type": "markdown",
   "metadata": {},
   "source": [
    "以前的作业中，我们已经定义了在给定时间区间内求解一般微分方程的函数dSolve，   \n",
    "   \n",
    "[dSolve in Chap1](https://github.com/loading99pct/computationalphysics_N2013301020062/tree/master/chap-1)   \n",
    "   \n",
    "本次作业中，借助之前的求解方法函数，定义函数dSolveUntil, 此函数不断迭代，直到状态（t,X）满足某个条件stopQ,   \n",
    "返回解列表，此函数结构由nestUntilList给出   \n",
    "   \n",
    "修改画图函数，解除耦合，提取公因子；   \n",
    "定义函数easyPlotXYHoldON;   \n",
    "dSolutionFastPlot   \n",
    "dSolutionPlotAndHoldOn   \n",
    "detailedDSolutionPlotAndHoldOn    \n",
    "\n",
    "上次作业中   \n",
    "已经定义了dSolveUntil,它和dSolve一样可以调用四种求解方法，默认采用 RK-4 求解   \n",
    "[dSolveUntil in Chap2](https://github.com/loading99pct/computationalphysics_N2013301020062/tree/master/Chap_2.1)   \n",
    "   \n",
    "   "
   ]
  },
  {
   "cell_type": "markdown",
   "metadata": {},
   "source": [
    "本次作业中：   \n",
    "1, 物体有无旋转时的运动   \n",
    "2, 给定速度以及旋转速度，不同发射角度下的运动   \n",
    "3, 给定速度以及旋转速度，不同发射角度下的落地点，以及最远落地点   \n",
    "4, 给定速度以及发射角度，不同旋转速度下的运动   "
   ]
  },
  {
   "cell_type": "markdown",
   "metadata": {},
   "source": [
    "## 物体有无旋转时的运动 ##"
   ]
  },
  {
   "cell_type": "markdown",
   "metadata": {},
   "source": [
    "已经定义了dSolveUntil,它和dSolve一样可以调用四种求解方法，默认采用 RK-4 求解   "
   ]
  },
  {
   "cell_type": "markdown",
   "metadata": {},
   "source": [
    "定义有无旋转时的运动微分方程（被映射为某个函数）   "
   ]
  },
  {
   "cell_type": "code",
   "execution_count": null,
   "metadata": {
    "collapsed": true
   },
   "outputs": [],
   "source": [
    "\n",
    "def airDrugedSpinTraj(omega, s0OverM = 4.1e-4, g = 9.8):\n",
    "    def foo(t,X):\n",
    "        [vx,vy,x,y] = X\n",
    "        v = math.sqrt(vx**2 + vy**2)\n",
    "        return array([-B2OverM(v)*v*vx - s0OverM*omega*vy, -g -B2OverM(v)*v*vy + s0OverM*omega*vx, vx, vy])\n",
    "    return foo\n"
   ]
  },
  {
   "cell_type": "markdown",
   "metadata": {},
   "source": [
    "落地条件（针对某一状态的谓词函数），通过这个停止条件，求解将一直进行直到物体落地   "
   ]
  },
  {
   "cell_type": "code",
   "execution_count": null,
   "metadata": {
    "collapsed": true
   },
   "outputs": [],
   "source": [
    "def stopQ(state):\n",
    "    return getT(state) != 0 and getX(state)[3] <= 0"
   ]
  },
  {
   "cell_type": "markdown",
   "metadata": {},
   "source": [
    "在vx0 = 50 m/s, vy0 = 50 m/s, 转速omega = 2000 rpm, 分别求解有无旋转的运动方程    "
   ]
  },
  {
   "cell_type": "code",
   "execution_count": null,
   "metadata": {
    "collapsed": true
   },
   "outputs": [],
   "source": [
    "ans1 = dSolveUntil(airDrugedSpinTraj(rpm(omega)), array([vx0,vy0,0.,0.]), 0.05,stopQ)\n",
    "ans1v = reduceStateList(ans1, [0,1])\n",
    "ans1x = reduceStateList(ans1, [2,3])\n",
    "\n",
    "ans2 = dSolveUntil(airDrugedSpinTraj(0.), array([vx0,vy0,0.,0.]), 0.05,stopQ)\n",
    "ans2v = reduceStateList(ans2, [0,1])\n",
    "ans2x = reduceStateList(ans2, [2,3])"
   ]
  },
  {
   "cell_type": "markdown",
   "metadata": {},
   "source": [
    "分别画出速度随时间变化,位置随时间变化，以及运动轨迹    "
   ]
  },
  {
   "cell_type": "code",
   "execution_count": null,
   "metadata": {
    "collapsed": true
   },
   "outputs": [],
   "source": [
    "# V-T\n",
    "ddp(ans1v,[\"vx with spin\",\"vy with spin\"])\n",
    "ddp(ans2v,[\"vx without spin\",\"vy without spin\"],\"t/s\", \"v/ m/s\",\"V-T\")\n",
    "plt.show() \n",
    "\n",
    "# X-T\n",
    "ddp(ans1x,[\"x with spin\",\"y with spin\"])\n",
    "ddp(ans2x,[\"x without spin\",\"y without spin\"],\"t/s\", \"x/m\",\"X - T & Y - T\")\n",
    "plt.show() \n",
    "\n",
    "# Y-X\n",
    "easyPlotXYHoldON(getXiList(ans1x,1),getXiList(ans1x,2), \"with spin\")\n",
    "easyPlotXYHoldON(getXiList(ans2x,1),getXiList(ans2x,2), \"without spin\",\"x/m\",\"y/m\", \"Y - X\")\n",
    "plt.show() "
   ]
  },
  {
   "cell_type": "markdown",
   "metadata": {},
   "source": [
    "速度随时间变化    "
   ]
  },
  {
   "cell_type": "markdown",
   "metadata": {},
   "source": [
    "![](https://raw.githubusercontent.com/loading99pct/computationalphysics_N2013301020062/master/Chap_2.2/pictures/1-with-and-without-spin-v.png)   "
   ]
  },
  {
   "cell_type": "markdown",
   "metadata": {},
   "source": [
    "位置随时间变化   "
   ]
  },
  {
   "cell_type": "markdown",
   "metadata": {},
   "source": [
    "![](https://raw.githubusercontent.com/loading99pct/computationalphysics_N2013301020062/master/Chap_2.2/pictures/1-with-and-without-spin-x.png)   "
   ]
  },
  {
   "cell_type": "markdown",
   "metadata": {},
   "source": [
    "运动轨迹   "
   ]
  },
  {
   "cell_type": "markdown",
   "metadata": {},
   "source": [
    "![](https://raw.githubusercontent.com/loading99pct/computationalphysics_N2013301020062/master/Chap_2.2/pictures/1-with-and-without-spin-traj.png)   "
   ]
  },
  {
   "cell_type": "markdown",
   "metadata": {},
   "source": [
    "## 给定速度以及旋转速度，不同发射角度下的运动    ##"
   ]
  },
  {
   "cell_type": "markdown",
   "metadata": {},
   "source": [
    "定义通过给定角度和转速求解运动方程（直到落地）的函数   "
   ]
  },
  {
   "cell_type": "code",
   "execution_count": null,
   "metadata": {
    "collapsed": true
   },
   "outputs": [],
   "source": [
    "def solveTrajectoryByAngle(speed, rpmval, angle):\n",
    "    theta = angle * math.pi / 180.\n",
    "    vx = speed * math.cos(theta)\n",
    "    vy = speed * math.sin(theta)\n",
    "    return dSolveUntil(airDrugedSpinTraj(rpm(rpmval)), array([vx,vy,0.,0.]), 0.05,stopQ)"
   ]
  },
  {
   "cell_type": "markdown",
   "metadata": {},
   "source": [
    "速度默认70 m/s, 转速omega = 2000, 调整发射角度，求得轨迹如下   "
   ]
  },
  {
   "cell_type": "code",
   "execution_count": null,
   "metadata": {
    "collapsed": true
   },
   "outputs": [],
   "source": [
    "for angle in range(10,90,10):\n",
    "    ans1 = solveTrajectoryByAngle(70., 2000., angle)\n",
    "    ans1x = reduceStateList(ans1, [2,3])\n",
    "    easyPlotXYHoldON(getXiList(ans1x,1),getXiList(ans1x,2), \"Theta = \"+str(angle),\"x/m\",\"y/m\", \"Y - X\")\n",
    "plt.xlim(-20,260)\n",
    "plt.ylim(0,150)\n",
    "plt.show() "
   ]
  },
  {
   "cell_type": "markdown",
   "metadata": {},
   "source": [
    "![](https://raw.githubusercontent.com/loading99pct/computationalphysics_N2013301020062/master/Chap_2.2/pictures/2-different-angle-1.png)   "
   ]
  },
  {
   "cell_type": "markdown",
   "metadata": {},
   "source": [
    "加密发射角度的采样（角度从0 到 90 度），得到轨迹的包络，这是物体可达到的范围   "
   ]
  },
  {
   "cell_type": "code",
   "execution_count": null,
   "metadata": {
    "collapsed": true
   },
   "outputs": [],
   "source": [
    "for angle in range(0,90,2):\n",
    "    ans1 = solveTrajectoryByAngle(70.,2000., angle)\n",
    "    ans1x = reduceStateList(ans1, [2,3])\n",
    "    easyPlotXYHoldON(getXiList(ans1x,1),getXiList(ans1x,2), \"\",\"x/m\",\"y/m\", \"Y - X\")\n",
    "plt.xlim(-50,260)\n",
    "plt.ylim(0,150)\n",
    "plt.show() "
   ]
  },
  {
   "cell_type": "markdown",
   "metadata": {},
   "source": [
    "![](https://raw.githubusercontent.com/loading99pct/computationalphysics_N2013301020062/master/Chap_2.2/pictures/2-different-angle-2.png)   "
   ]
  },
  {
   "cell_type": "markdown",
   "metadata": {},
   "source": [
    "将转速改为5000. （角度从0 到 90 度）得到包络：   "
   ]
  },
  {
   "cell_type": "markdown",
   "metadata": {},
   "source": [
    "![](https://raw.githubusercontent.com/loading99pct/computationalphysics_N2013301020062/master/Chap_2.2/pictures/2-different-angle-3.png)   "
   ]
  },
  {
   "cell_type": "markdown",
   "metadata": {},
   "source": [
    "## 给定速度以及旋转速度，不同发射角度下的落地点，以及最远落地点    ##"
   ]
  },
  {
   "cell_type": "markdown",
   "metadata": {},
   "source": [
    "定义通过给定解提取落地点距离的函数   "
   ]
  },
  {
   "cell_type": "code",
   "execution_count": null,
   "metadata": {
    "collapsed": true
   },
   "outputs": [],
   "source": [
    "\n",
    "def landingX(result):\n",
    "    finalState = result[-1]\n",
    "    return getX(finalState)[2]\n"
   ]
  },
  {
   "cell_type": "markdown",
   "metadata": {},
   "source": [
    "从而定义给定速度，旋转速度，发射角度，给出落地距离的函数   "
   ]
  },
  {
   "cell_type": "code",
   "execution_count": null,
   "metadata": {
    "collapsed": true
   },
   "outputs": [],
   "source": [
    "\n",
    "def landingPointByAngle(speed, rpmval, angle):\n",
    "    return landingX(solveTrajectoryByAngle(speed, rpmval, angle))\n"
   ]
  },
  {
   "cell_type": "markdown",
   "metadata": {},
   "source": [
    "画出落地点关于发射角度（在给定速度v = 70.m/s， 转速2000.）的关系"
   ]
  },
  {
   "cell_type": "code",
   "execution_count": null,
   "metadata": {
    "collapsed": true
   },
   "outputs": [],
   "source": [
    "n = 100\n",
    "thetaList = [(i * 90. / n) for i in range(n)]\n",
    "landingList = map(lambda angle: landingPointByAngle(70., 2000., angle), thetaList)\n",
    "easyPlotXYHoldON(thetaList, landingList, \"\",\"theta/degree\",\"x/m\", \"X_landing - Theta\")\n",
    "plt.show()"
   ]
  },
  {
   "cell_type": "markdown",
   "metadata": {},
   "source": [
    "![](https://raw.githubusercontent.com/loading99pct/computationalphysics_N2013301020062/master/Chap_2.2/pictures/4-landing-point-1.png)   "
   ]
  },
  {
   "cell_type": "markdown",
   "metadata": {},
   "source": [
    "画出落地点关于发射角度（在给定速度v = 70.m/s， 转速12000.）的关系   "
   ]
  },
  {
   "cell_type": "code",
   "execution_count": null,
   "metadata": {
    "collapsed": true
   },
   "outputs": [],
   "source": [
    "n = 100\n",
    "thetaList = [(i * 90. / n) for i in range(n)]\n",
    "landingList = map(lambda angle: landingPointByAngle(70., 12000., angle), thetaList)\n",
    "easyPlotXYHoldON(thetaList, landingList, \"\",\"theta/degree\",\"x/m\", \"X_landing - Theta\")\n",
    "plt.show()\n"
   ]
  },
  {
   "cell_type": "markdown",
   "metadata": {},
   "source": [
    "![](https://raw.githubusercontent.com/loading99pct/computationalphysics_N2013301020062/master/Chap_2.2/pictures/4-landing-point-2.png)   "
   ]
  },
  {
   "cell_type": "markdown",
   "metadata": {},
   "source": [
    "突变原因如下一节解释。   "
   ]
  },
  {
   "cell_type": "markdown",
   "metadata": {},
   "source": [
    "##  给定速度以及发射角度，不同旋转速度下的运动 ##"
   ]
  },
  {
   "cell_type": "markdown",
   "metadata": {},
   "source": [
    "在v=70m/s,发射角度45度时， 改变转速omega   "
   ]
  },
  {
   "cell_type": "code",
   "execution_count": null,
   "metadata": {
    "collapsed": true
   },
   "outputs": [],
   "source": [
    "\n",
    "for omega in range(0,9000,1000):\n",
    "    ans1 = solveTrajectoryByAngle(70., omega, 45.)\n",
    "    ans1x = reduceStateList(ans1, [2,3])\n",
    "    easyPlotXYHoldON(getXiList(ans1x,1),getXiList(ans1x,2), \"Omega = \"+str(omega),\"x/m\",\"y/m\", \"Y - X\")\n",
    "plt.xlim(-20,260)\n",
    "plt.ylim(0,150)\n",
    "plt.show() \n"
   ]
  },
  {
   "cell_type": "markdown",
   "metadata": {},
   "source": [
    "![](https://raw.githubusercontent.com/loading99pct/computationalphysics_N2013301020062/master/Chap_2.2/pictures/3-different-omega.png)   "
   ]
  },
  {
   "cell_type": "markdown",
   "metadata": {},
   "source": [
    "当角速度足够大的时候：   "
   ]
  },
  {
   "cell_type": "markdown",
   "metadata": {},
   "source": [
    "![](https://raw.githubusercontent.com/loading99pct/computationalphysics_N2013301020062/master/Chap_2.2/pictures/3-special.png)   "
   ]
  },
  {
   "cell_type": "markdown",
   "metadata": {},
   "source": [
    "这解释了上一节落地点突变的原因。   "
   ]
  }
 ],
 "metadata": {
  "kernelspec": {
   "display_name": "Python 2",
   "language": "python",
   "name": "python2"
  },
  "language_info": {
   "codemirror_mode": {
    "name": "ipython",
    "version": 2
   },
   "file_extension": ".py",
   "mimetype": "text/x-python",
   "name": "python",
   "nbconvert_exporter": "python",
   "pygments_lexer": "ipython2",
   "version": "2.7.11"
  }
 },
 "nbformat": 4,
 "nbformat_minor": 0
}
