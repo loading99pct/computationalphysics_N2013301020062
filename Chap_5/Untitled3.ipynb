{
 "cells": [
  {
   "cell_type": "markdown",
   "metadata": {},
   "source": [
    "# 平板电容间的拉普拉斯方程数值求解 #"
   ]
  },
  {
   "cell_type": "markdown",
   "metadata": {},
   "source": [
    "我们通过将系统离散化，通过迭代使系统逐渐收敛到真实解   "
   ]
  },
  {
   "cell_type": "markdown",
   "metadata": {},
   "source": [
    "首先，我们求解具有如下构型的系统：      \n",
    "length 代表计算方格大小，首先我们改变模拟尺度。   \n",
    "platePos平板放置距离中心位置，这里首先取2   \n",
    "plateLen平板的半长， 这里首先取2   "
   ]
  },
  {
   "cell_type": "markdown",
   "metadata": {},
   "source": [
    "初始图像如下：   "
   ]
  },
  {
   "cell_type": "markdown",
   "metadata": {},
   "source": [
    "![](https://raw.githubusercontent.com/loading99pct/computationalphysics_N2013301020062/master/Chap_5/pic/i1.png)   "
   ]
  },
  {
   "cell_type": "markdown",
   "metadata": {},
   "source": [
    "对于不同的模拟尺度大小，分别迭代，如下动画所示：   "
   ]
  },
  {
   "cell_type": "markdown",
   "metadata": {},
   "source": [
    "length = 60   "
   ]
  },
  {
   "cell_type": "markdown",
   "metadata": {},
   "source": [
    "![](https://raw.githubusercontent.com/loading99pct/computationalphysics_N2013301020062/master/Chap_5/pic/iter.gif)   "
   ]
  },
  {
   "cell_type": "markdown",
   "metadata": {},
   "source": [
    "length = 80   "
   ]
  },
  {
   "cell_type": "markdown",
   "metadata": {},
   "source": [
    "![](https://raw.githubusercontent.com/loading99pct/computationalphysics_N2013301020062/master/Chap_5/pic/iter2.gif)   "
   ]
  },
  {
   "cell_type": "markdown",
   "metadata": {},
   "source": [
    "length = 120   "
   ]
  },
  {
   "cell_type": "markdown",
   "metadata": {},
   "source": [
    "![](https://raw.githubusercontent.com/loading99pct/computationalphysics_N2013301020062/master/Chap_5/pic/iter3.gif)   "
   ]
  },
  {
   "cell_type": "markdown",
   "metadata": {},
   "source": [
    "对于length = 120，我们画出迭代到接近不动点时的状态   "
   ]
  },
  {
   "cell_type": "markdown",
   "metadata": {},
   "source": [
    "![](https://raw.githubusercontent.com/loading99pct/computationalphysics_N2013301020062/master/Chap_5/pic/p1.png)   "
   ]
  },
  {
   "cell_type": "markdown",
   "metadata": {},
   "source": [
    "![](https://raw.githubusercontent.com/loading99pct/computationalphysics_N2013301020062/master/Chap_5/pic/s11.png)   "
   ]
  },
  {
   "cell_type": "markdown",
   "metadata": {},
   "source": [
    "![](https://raw.githubusercontent.com/loading99pct/computationalphysics_N2013301020062/master/Chap_5/pic/s1.png)   "
   ]
  },
  {
   "cell_type": "markdown",
   "metadata": {},
   "source": [
    "对于另一组参数   \n",
    "length：计算方格大小：120   \n",
    "platePos:平板放置距离中心位置:10   \n",
    "plateLen:板的半长:这里首先取:10   \n",
    "我们得到   "
   ]
  },
  {
   "cell_type": "markdown",
   "metadata": {},
   "source": [
    "![](https://raw.githubusercontent.com/loading99pct/computationalphysics_N2013301020062/master/Chap_5/pic/i2.png)   "
   ]
  },
  {
   "cell_type": "markdown",
   "metadata": {},
   "source": [
    "反复迭代到接近不动点时的状态   "
   ]
  },
  {
   "cell_type": "markdown",
   "metadata": {},
   "source": [
    "![](https://raw.githubusercontent.com/loading99pct/computationalphysics_N2013301020062/master/Chap_5/pic/iter4.gif)   "
   ]
  },
  {
   "cell_type": "markdown",
   "metadata": {},
   "source": [
    "![](https://raw.githubusercontent.com/loading99pct/computationalphysics_N2013301020062/master/Chap_5/pic/p2.png)   "
   ]
  },
  {
   "cell_type": "markdown",
   "metadata": {},
   "source": [
    "![](https://raw.githubusercontent.com/loading99pct/computationalphysics_N2013301020062/master/Chap_5/pic/s2.png)   "
   ]
  }
 ],
 "metadata": {
  "kernelspec": {
   "display_name": "Python 2",
   "language": "python",
   "name": "python2"
  },
  "language_info": {
   "codemirror_mode": {
    "name": "ipython",
    "version": 2
   },
   "file_extension": ".py",
   "mimetype": "text/x-python",
   "name": "python",
   "nbconvert_exporter": "python",
   "pygments_lexer": "ipython2",
   "version": "2.7.11"
  }
 },
 "nbformat": 4,
 "nbformat_minor": 0
}
