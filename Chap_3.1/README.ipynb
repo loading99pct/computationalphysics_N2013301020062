{
 "cells": [
  {
   "cell_type": "markdown",
   "metadata": {},
   "source": [
    "# 有阻尼周期驱动下的简单摆 #"
   ]
  },
  {
   "cell_type": "markdown",
   "metadata": {},
   "source": [
    "以前的作业中，我们已经定义了在给定时间区间内求解一般微分方程的函数dSolve，   \n",
    "   \n",
    "[dSolve in Chap1](https://github.com/loading99pct/computationalphysics_N2013301020062/tree/master/chap-1)   \n",
    "   \n",
    "借助之前的求解方法函数，定义函数dSolveUntil, 此函数不断迭代，直到状态（t,X）满足某个条件stopQ,   \n",
    "返回解列表，此函数结构由nestUntilList给出   \n",
    "   \n",
    "已经定义了dSolveUntil,它和dSolve一样可以调用四种求解方法，默认采用 RK-4 求解   \n",
    "[dSolveUntil in Chap2](https://github.com/loading99pct/computationalphysics_N2013301020062/tree/master/Chap_2.1)   \n",
    "   \n",
    "   "
   ]
  },
  {
   "cell_type": "markdown",
   "metadata": {},
   "source": [
    "本次作业中：   \n",
    "1, 不同方法求解简单摆运动的准确性   \n",
    "2, 有阻尼的单摆运动   \n",
    "3, 有阻尼且有周期性驱动力的单摆运动， 以及不同驱动力周期下的稳定振幅     "
   ]
  },
  {
   "cell_type": "markdown",
   "metadata": {},
   "source": [
    "## 不同方法求解简单摆运动的准确性 ##"
   ]
  },
  {
   "cell_type": "markdown",
   "metadata": {},
   "source": [
    "dSolve可以调用四种求解方法，默认采用 RK-4 求解   "
   ]
  },
  {
   "cell_type": "markdown",
   "metadata": {},
   "source": [
    "定义简单摆的运动微分方程（被映射为某个函数）   "
   ]
  },
  {
   "cell_type": "code",
   "execution_count": null,
   "metadata": {
    "collapsed": true
   },
   "outputs": [],
   "source": [
    "\n",
    "def simpleLinearPendulum(gOverL = 9.8):\n",
    "    def foo(t,X):\n",
    "        [omega, theta] = X\n",
    "        return array([-gOverL*theta, omega])\n",
    "    return foo\n"
   ]
  },
  {
   "cell_type": "markdown",
   "metadata": {},
   "source": [
    "分别讨论用 RK4 和 前步欧拉法 求解  "
   ]
  },
  {
   "cell_type": "markdown",
   "metadata": {},
   "source": [
    "stepSize = 0.01   \n",
    "tMax = 10.   "
   ]
  },
  {
   "cell_type": "markdown",
   "metadata": {},
   "source": [
    "分别用两种方法求解运动方程    "
   ]
  },
  {
   "cell_type": "code",
   "execution_count": null,
   "metadata": {
    "collapsed": true
   },
   "outputs": [],
   "source": [
    "ans1 = dSolve(simpleLinearPendulum(20.), array([0, 5*deg]), tMax, stepSize, method = \"RK4\")\n",
    "ans1Omega = reduceStateList(ans1, [0])\n",
    "ans1Theta = reduceStateList(ans1, [1])\n",
    "\n",
    "ans2 = dSolve(simpleLinearPendulum(20.), array([0, 5*deg]), tMax, stepSize, method = \"ForwardEuler\")\n",
    "ans2Omega = reduceStateList(ans2, [0])\n",
    "ans2Theta = reduceStateList(ans2, [1])"
   ]
  },
  {
   "cell_type": "markdown",
   "metadata": {},
   "source": [
    "分别画出角速度随时间变化,角度随时间变化，以及相空间轨迹    "
   ]
  },
  {
   "cell_type": "code",
   "execution_count": null,
   "metadata": {
    "collapsed": true
   },
   "outputs": [],
   "source": [
    "# Omega\n",
    "ddp(ans2Omega,[\"ForwardEuler\"], xLabel = \"t/s\", yLabel = \"Omega/ 1/s\")\n",
    "ddp(ans1Omega,[\"RK4\"], xLabel = \"t/s\", yLabel = \"Omega/ 1/s\")\n",
    "done()\n",
    "\n",
    "# Theta\n",
    "ddp(ans2Theta,[\"ForwardEuler\"], xLabel = \"t/s\", yLabel = \"Theta/ 1\")\n",
    "ddp(ans1Theta,[\"RK4\"], xLabel = \"t/s\", yLabel = \"Theta/ 1\")\n",
    "done()\n",
    "\n",
    "# phase diag\n",
    "easyPlotXYHoldON(getXiList(ans2,2),getXiList(ans2,1), \"ForwardEuler\",\"Theta/ 1\",\"Omega/ 1/s\", \"Phase Diagram\")\n",
    "easyPlotXYHoldON(getXiList(ans1,2),getXiList(ans1,1), \"RK4\",\"Theta/ 1\",\"Omega/ 1/s\", \"Phase Diagram\")\n",
    "done()"
   ]
  },
  {
   "cell_type": "markdown",
   "metadata": {},
   "source": [
    "角速度随时间变化    "
   ]
  },
  {
   "cell_type": "markdown",
   "metadata": {},
   "source": [
    "![](https://raw.githubusercontent.com/loading99pct/computationalphysics_N2013301020062/master/Chap_3.1/pictures/1-different-theta-v.png)   "
   ]
  },
  {
   "cell_type": "markdown",
   "metadata": {},
   "source": [
    "角度随时间变化   "
   ]
  },
  {
   "cell_type": "markdown",
   "metadata": {},
   "source": [
    "![](https://raw.githubusercontent.com/loading99pct/computationalphysics_N2013301020062/master/Chap_3.1/pictures/1-different-theta-x.png)   "
   ]
  },
  {
   "cell_type": "markdown",
   "metadata": {},
   "source": [
    "相图   "
   ]
  },
  {
   "cell_type": "markdown",
   "metadata": {},
   "source": [
    "![](https://raw.githubusercontent.com/loading99pct/computationalphysics_N2013301020062/master/Chap_3.1/pictures/1-different-theta-ph.png)   "
   ]
  },
  {
   "cell_type": "markdown",
   "metadata": {},
   "source": [
    "当求解时间更长时，欧拉法误差发散更大，RK4仍无明显发散   "
   ]
  },
  {
   "cell_type": "markdown",
   "metadata": {},
   "source": [
    "![](https://raw.githubusercontent.com/loading99pct/computationalphysics_N2013301020062/master/Chap_3.1/pictures/1-different-theta-x2.png)   "
   ]
  },
  {
   "cell_type": "markdown",
   "metadata": {},
   "source": [
    "## 有线性阻尼的单摆运动 ##"
   ]
  },
  {
   "cell_type": "markdown",
   "metadata": {},
   "source": [
    "定义有阻尼周期驱动的运动方程   "
   ]
  },
  {
   "cell_type": "code",
   "execution_count": null,
   "metadata": {
    "collapsed": true
   },
   "outputs": [],
   "source": [
    "\n",
    "def forcedDampedLinearPendulum(omgd, fd, q, gOverL):\n",
    "    def foo(t,X):\n",
    "        [omega, theta] = X\n",
    "        return array([- gOverL*theta - q*omega + fd*math.sin(omgd*t), omega])\n",
    "    return foo\n"
   ]
  },
  {
   "cell_type": "markdown",
   "metadata": {},
   "source": [
    "设周期力为零，仅存在阻尼，求解运动方程    "
   ]
  },
  {
   "cell_type": "markdown",
   "metadata": {},
   "source": [
    "1，欠阻尼"
   ]
  },
  {
   "cell_type": "code",
   "execution_count": null,
   "metadata": {
    "collapsed": true
   },
   "outputs": [],
   "source": [
    "\n",
    "fd = 0.0\n",
    "omgd = 2.\n",
    "gOverL = 9.8\n",
    "q = 0.5\n",
    "\n",
    "stepSize = 0.01\n",
    "tMax = 30.\n",
    "\n",
    "ans1 = dSolve(forcedDampedLinearPendulum(omgd, fd, q, gOverL), array([0, 5*deg]), tMax, stepSize, method = \"RK4\")\n",
    "oneDimNewtonPhaseSpaceSolutionPrintAndHoldOn(ans1)\n",
    "done()\n",
    "ans1Theta = reduceStateList(ans1, [1])\n",
    "ddp(ans1Theta,[\"\"], xLabel = \"t/s\", yLabel = \"Theta/ 1\")\n",
    "done()\n"
   ]
  },
  {
   "cell_type": "markdown",
   "metadata": {},
   "source": [
    "角度随时间关系：   "
   ]
  },
  {
   "cell_type": "markdown",
   "metadata": {},
   "source": [
    "![](https://raw.githubusercontent.com/loading99pct/computationalphysics_N2013301020062/master/Chap_3.1/pictures/2-dumping-x-1.png)   "
   ]
  },
  {
   "cell_type": "markdown",
   "metadata": {},
   "source": [
    "相空间轨迹：   "
   ]
  },
  {
   "cell_type": "markdown",
   "metadata": {},
   "source": [
    "![](https://raw.githubusercontent.com/loading99pct/computationalphysics_N2013301020062/master/Chap_3.1/pictures/2-dumping-ph-1.png)   "
   ]
  },
  {
   "cell_type": "markdown",
   "metadata": {},
   "source": [
    "1，过阻尼   "
   ]
  },
  {
   "cell_type": "code",
   "execution_count": null,
   "metadata": {
    "collapsed": true
   },
   "outputs": [],
   "source": [
    "\n",
    "q = 9.\n",
    "tMax = 8.\n",
    "ans1 = dSolve(forcedDampedLinearPendulum(omgd, fd, q, gOverL), array([0, 5*deg]), tMax, stepSize, method = \"RK4\")\n",
    "oneDimNewtonPhaseSpaceSolutionPrintAndHoldOn(ans1)\n",
    "plt.xlim(-0.1,0.1)\n",
    "plt.ylim(-0.3,0.3)\n",
    "done()\n",
    "ans1Theta = reduceStateList(ans1, [1])\n",
    "ddp(ans1Theta,[\"\"],xLabel = \"t/s\", yLabel = \"Theta/ 1\")\n",
    "done()\n"
   ]
  },
  {
   "cell_type": "markdown",
   "metadata": {},
   "source": [
    "角度随时间关系：   "
   ]
  },
  {
   "cell_type": "markdown",
   "metadata": {},
   "source": [
    "![](https://raw.githubusercontent.com/loading99pct/computationalphysics_N2013301020062/master/Chap_3.1/pictures/2-dumping-x-2.png)   "
   ]
  },
  {
   "cell_type": "markdown",
   "metadata": {},
   "source": [
    "相空间轨迹：   "
   ]
  },
  {
   "cell_type": "markdown",
   "metadata": {},
   "source": [
    "![](https://raw.githubusercontent.com/loading99pct/computationalphysics_N2013301020062/master/Chap_3.1/pictures/2-dumping-ph-2.png)   "
   ]
  },
  {
   "cell_type": "markdown",
   "metadata": {},
   "source": [
    "##  有阻尼且有周期性驱动力的单摆运动， 以及不同驱动周期下的稳定振幅 ##"
   ]
  },
  {
   "cell_type": "markdown",
   "metadata": {},
   "source": [
    "周期性驱动力下的运动   "
   ]
  },
  {
   "cell_type": "code",
   "execution_count": null,
   "metadata": {
    "collapsed": true
   },
   "outputs": [],
   "source": [
    "\n",
    "# forced\n",
    "fd = 1.\n",
    "omgd = 2.\n",
    "gOverL = 9.8\n",
    "q = 1.\n",
    "\n",
    "stepSize = 0.01\n",
    "tMax = 30.\n",
    "\n",
    "    \n",
    "ans1 = dSolve(forcedDampedLinearPendulum(omgd, fd, q, gOverL), array([0, 5*deg]), tMax, stepSize, method = \"RK4\")\n",
    "\n"
   ]
  },
  {
   "cell_type": "markdown",
   "metadata": {},
   "source": [
    "角度随时间关系   "
   ]
  },
  {
   "cell_type": "code",
   "execution_count": null,
   "metadata": {
    "collapsed": true
   },
   "outputs": [],
   "source": [
    "\n",
    "ans1Theta = reduceStateList(ans1, [1])\n",
    "ddp(ans1Theta,[\"\"],xLabel = \"t/s\", yLabel = \"Theta/ 1\")\n",
    "done()\n"
   ]
  },
  {
   "cell_type": "markdown",
   "metadata": {},
   "source": [
    "![](https://raw.githubusercontent.com/loading99pct/computationalphysics_N2013301020062/master/Chap_3.1/pictures/3-forced-x.png)   "
   ]
  },
  {
   "cell_type": "markdown",
   "metadata": {},
   "source": [
    "相空间轨迹   "
   ]
  },
  {
   "cell_type": "code",
   "execution_count": null,
   "metadata": {
    "collapsed": true
   },
   "outputs": [],
   "source": [
    "\n",
    "oneDimNewtonPhaseSpaceSolutionPrintAndHoldOn(ans1)\n",
    "done()\n"
   ]
  },
  {
   "cell_type": "markdown",
   "metadata": {},
   "source": [
    "![](https://raw.githubusercontent.com/loading99pct/computationalphysics_N2013301020062/master/Chap_3.1/pictures/3-forced-ph.png)   "
   ]
  },
  {
   "cell_type": "markdown",
   "metadata": {},
   "source": [
    "定义计算振幅的函数   "
   ]
  },
  {
   "cell_type": "code",
   "execution_count": null,
   "metadata": {
    "collapsed": true
   },
   "outputs": [],
   "source": [
    "\n",
    "def amplitude(ans1, omegd, stepSize):\n",
    "    takeLength =int(round(2 * (2*math.pi/omgd)/stepSize))\n",
    "    ans1 = ans1[- takeLength :-1]\n",
    "    xList = getXiList(ans1, 2)\n",
    "    return (max(xList)-min(xList))/2.\n"
   ]
  },
  {
   "cell_type": "markdown",
   "metadata": {},
   "source": [
    "得到不同驱动周期下的稳定振幅   "
   ]
  },
  {
   "cell_type": "markdown",
   "metadata": {},
   "source": [
    "参数：   \n",
    "fd = 1.   \n",
    "gOverL = 9.8   \n",
    "q = 1.   \n",
    "   \n",
    "stepSize = 0.01   \n",
    "tMax = 30.   "
   ]
  },
  {
   "cell_type": "code",
   "execution_count": null,
   "metadata": {
    "collapsed": true
   },
   "outputs": [],
   "source": [
    "\n",
    "omgList = (np.linspace(0.5, 10., 100)).tolist()\n",
    "ampList = []\n",
    "\n",
    "for omgd in omgList:\n",
    "    ans1 = dSolve(forcedDampedLinearPendulum(omgd, fd, q, gOverL), array([0, 5*deg]), tMax, stepSize, method = \"RK4\")\n",
    "    ampList.append(amplitude(ans1, omgd, stepSize))\n",
    "\n",
    "easyPlotXYHoldON(omgList, ampList, legendC = \"\", xLabel = \"OmegaF / 1/s\", yLabel = \"Amplitude / 1\", titleLabel = \"Amplitude with different OmegaF\")\n",
    "\n"
   ]
  },
  {
   "cell_type": "markdown",
   "metadata": {},
   "source": [
    "![](https://raw.githubusercontent.com/loading99pct/computationalphysics_N2013301020062/master/Chap_3.1/pictures/4-A-vs-omg.png)   "
   ]
  }
 ],
 "metadata": {
  "kernelspec": {
   "display_name": "Python 2",
   "language": "python",
   "name": "python2"
  },
  "language_info": {
   "codemirror_mode": {
    "name": "ipython",
    "version": 2
   },
   "file_extension": ".py",
   "mimetype": "text/x-python",
   "name": "python",
   "nbconvert_exporter": "python",
   "pygments_lexer": "ipython2",
   "version": "2.7.11"
  }
 },
 "nbformat": 4,
 "nbformat_minor": 0
}
